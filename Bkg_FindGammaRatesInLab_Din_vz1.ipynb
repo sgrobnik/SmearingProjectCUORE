{
 "cells": [
  {
   "cell_type": "markdown",
   "id": "3b98908c",
   "metadata": {},
   "source": [
    "## Find gamma rates of K-40 and Tl-208 in lab data (vz1)\n",
    "\n",
    "#### Din-Ammar Tolj - Y25\n",
    "Maruyama Group, Summer 2023\n",
    "\n",
    "This notebook fits Gaussians to K-40 and Tl-208 compton edges from lab data in order to find the gamma fluxes of these isotopes. This data is used to compare to the LNGS data from the paper Samantha sent."
   ]
  },
  {
   "cell_type": "code",
   "execution_count": 3,
   "id": "295b2016",
   "metadata": {},
   "outputs": [
    {
     "name": "stdout",
     "output_type": "stream",
     "text": [
      "/vast/palmer/home.grace/dt592/Geant4Work/libs\n",
      "/vast/palmer/home.grace/dt592/Geant4Work\n"
     ]
    },
    {
     "name": "stderr",
     "output_type": "stream",
     "text": [
      "/tmp/ipykernel_30754/3102545090.py:27: MatplotlibDeprecationWarning: Support for setting the 'text.latex.preamble' or 'pgf.preamble' rcParam to a list of strings is deprecated since 3.3 and will be removed two minor releases later; set it to a single string instead.\n",
      "  mpl.rcParams['text.latex.preamble'] = [r'\\usepackage{amsmath}'] #for \\text command\n"
     ]
    }
   ],
   "source": [
    "import numpy as np\n",
    "import matplotlib.pyplot as plt\n",
    "from scipy.stats import moyal, chisquare\n",
    "\n",
    "import ROOT\n",
    "from root_numpy import array2hist, hist2array, fill_hist\n",
    "from array import array\n",
    "\n",
    "import sys\n",
    "import math\n",
    "\n",
    "import matplotlib as mpl\n",
    "import os\n",
    "import matplotlib.colors as mcolors\n",
    "import scipy\n",
    "from matplotlib.colors import LogNorm\n",
    "import pandas as pd\n",
    "import seaborn as sns\n",
    "%matplotlib inline\n",
    "# import deDisperse_util as util\n",
    "import matplotlib.colors as colors\n",
    "\n",
    "mpl.rcParams['text.usetex'] = True\n",
    "mpl.rcParams['mathtext.rm'] = 'Times New Roman'\n",
    "mpl.rcParams['mathtext.it'] = 'Times New Roman:italic'\n",
    "mpl.rcParams['mathtext.bf'] = 'Times New Roman:bold'\n",
    "mpl.rcParams['text.latex.preamble'] = [r'\\usepackage{amsmath}'] #for \\text command\n",
    "\n",
    "mpl.rc('font', family='serif', size=12)\n",
    "mpl.rcParams['xtick.labelsize'] = 14\n",
    "mpl.rcParams['ytick.labelsize'] = 14\n",
    "mpl.rcParams['xtick.major.size'] = 5\n",
    "mpl.rcParams['ytick.major.size'] = 5\n",
    "\n",
    "mpl.rcParams['axes.titlesize'] = 18\n",
    "mpl.rcParams['axes.labelsize'] = 18\n",
    "# mpl.rc('font', size=16)\n",
    "mpl.rc('axes', titlesize=20)\n",
    "\n",
    "current_palette = sns.color_palette('colorblind', 10)\n",
    "mpl.style.use('seaborn-colorblind')\n",
    "\n",
    "from scipy.optimize import curve_fit\n",
    "import scipy.signal\n",
    "from lmfit.models import GaussianModel, ConstantModel\n",
    "from datetime import datetime\n",
    "from glob import glob\n",
    "\n",
    "%cd libs/\n",
    "from dt5202 import dt5202_crunch # Import parser that Tom wrote. This is containted in the file named dt5202.py in this folder.\n",
    "from dt5202oldDAQ import dt5202_crunch as dt5202_crunch_oldDAQ # Old ver\n",
    "ped = 50 #pedestal correction\n",
    "\n",
    "from langaus import LanGausFit # Import Langaus fit curve for PyROOT.\n",
    "%cd -\n",
    "\n",
    "import warnings\n",
    "warnings.filterwarnings(\"ignore\")"
   ]
  },
  {
   "cell_type": "markdown",
   "id": "79bf2462",
   "metadata": {},
   "source": [
    "### Load and read lab data from directory"
   ]
  },
  {
   "cell_type": "code",
   "execution_count": 2,
   "id": "5aecd310",
   "metadata": {},
   "outputs": [
    {
     "name": "stdout",
     "output_type": "stream",
     "text": [
      "[(259, [3, 0, 3], 1, 0, 288, 0.5, 1674156932637)]\n",
      "((33, 0, 1.67415693e+09, 0, 1), (0, 3, 7938, 8051))\n",
      "[(259, [3, 0, 3], 1, 0, 288, 0.5, 1674157533007)]\n",
      "((33, 0, 1.67415753e+09, 0, 1), (0, 3, 1110, 8051))\n"
     ]
    }
   ],
   "source": [
    "sourceFolder = \"/home/dt592/data/board1771_01192023_retestingSwirlyPanel/\"\n",
    "\n",
    "onlyfiles = [f for f in os.listdir(sourceFolder) if '.dat' in f]\n",
    "\n",
    "data_list = []\n",
    "for file in onlyfiles:\n",
    "    data_list.append(dt5202_crunch(str(sourceFolder)+str(file), num_ev=100000000, num_ch=1))\n",
    "\n",
    "data = data_list[0]\n",
    "for i in range(1, len(data_list)):\n",
    "    data = np.append(data, data_list[i])"
   ]
  },
  {
   "cell_type": "code",
   "execution_count": 3,
   "id": "39962664",
   "metadata": {},
   "outputs": [
    {
     "data": {
      "image/png": "[encoded data removed]",
      "text/plain": [
       "<Figure size 864x360 with 1 Axes>"
      ]
     },
     "metadata": {
      "needs_background": "light"
     },
     "output_type": "display_data"
    }
   ],
   "source": [
    "plt.figure(figsize=(12,5))\n",
    "\n",
    "plt.hist(data['data']['low_gain']-ped, bins=200, lw = 2, label='lab data', histtype='step')\n",
    "\n",
    "plt.xlim(0,2500)\n",
    "plt.xlabel('ADC Counts')\n",
    "plt.ylabel('Number of Events (Counts)')\n",
    "plt.title('Histogram of ADC Counts (LG) [Gammas only]')\n",
    "plt.legend()\n",
    "plt.yscale('log')\n",
    "plt.grid()\n",
    "plt.show()"
   ]
  },
  {
   "cell_type": "code",
   "execution_count": 4,
   "id": "c57de0cb",
   "metadata": {},
   "outputs": [],
   "source": [
    "# Turn data into a ROOT Histogram\n",
    "c1 = ROOT.TCanvas('c1','', 200, 10, 750, 450)\n",
    "hpx = ROOT.TH1D('Gaussian Fit', 'Lab Data, LG', 200, 0, 2500)\n",
    "fill_hist(hpx, data['data']['low_gain']-ped)"
   ]
  },
  {
   "cell_type": "code",
   "execution_count": 12,
   "id": "1bcf1f37",
   "metadata": {},
   "outputs": [
    {
     "name": "stdout",
     "output_type": "stream",
     "text": [
      " FCN=86.0061 FROM MIGRAD    STATUS=CONVERGED     110 CALLS         111 TOTAL\n",
      "                     EDM=1.36782e-06    STRATEGY= 1      ERROR MATRIX ACCURATE \n",
      "  EXT PARAMETER                                   STEP         FIRST   \n",
      "  NO.   NAME      VALUE            ERROR          SIZE      DERIVATIVE \n",
      "   1  Constant     1.50800e+03   2.72889e+01   4.06992e-02   6.99823e-05\n",
      "   2  Mean         4.39543e+02   1.17581e+01   7.27481e-03  -1.72489e-04\n",
      "   3  Sigma        2.18073e+02   7.20658e+00   1.56288e-05  -1.86776e-01\n",
      " FCN=67.9277 FROM MIGRAD    STATUS=CONVERGED      95 CALLS          96 TOTAL\n",
      "                     EDM=8.06991e-08    STRATEGY= 1      ERROR MATRIX ACCURATE \n",
      "  EXT PARAMETER                                   STEP         FIRST   \n",
      "  NO.   NAME      VALUE            ERROR          SIZE      DERIVATIVE \n",
      "   1  Constant     1.44595e+02   3.61889e+00   9.27223e-03   1.12840e-04\n",
      "   2  Mean         1.05785e+03   1.69003e+01   1.76542e-02   4.02824e-05\n",
      "   3  Sigma        2.34936e+02   9.81016e+00   2.28629e-05   4.10824e-02\n"
     ]
    },
    {
     "data": {
      "image/png": "[encoded data removed]",
      "text/plain": [
       "<IPython.core.display.Image object>"
      ]
     },
     "metadata": {},
     "output_type": "display_data"
    }
   ],
   "source": [
    "par = array( 'd', 9*[0.] )\n",
    "g1 = ROOT.TF1( 'g1', 'gaus',  450,  800 )\n",
    "g2 = ROOT.TF1( 'g2', 'gaus',  1000,  1600 )\n",
    "\n",
    "hpx.Draw()\n",
    "ROOT.gPad.SetLogy()\n",
    "ROOT.gStyle.SetOptFit(2)\n",
    "\n",
    "hpx.GetXaxis().SetTitle(\"Integrated ADC\")\n",
    "hpx.GetYaxis().SetTitle(\"Counts/bin\")\n",
    "\n",
    "hpx.Fit( g1, 'R' )\n",
    "hpx.Fit( g2, 'R+' )\n",
    "\n",
    "par1 = g1.GetParameters()\n",
    "par2 = g2.GetParameters()\n",
    "\n",
    "c1.Draw()"
   ]
  },
  {
   "cell_type": "code",
   "execution_count": 13,
   "id": "eb22c4ca",
   "metadata": {},
   "outputs": [
    {
     "name": "stdout",
     "output_type": "stream",
     "text": [
      "The K-40 flux is:  6.559193e+07 gammas/m^2/day\n",
      "The Tl-208 flux is:  9.208984e+06 gammas/m^2/day\n"
     ]
    }
   ],
   "source": [
    "binWidth = hpx.GetBinWidth(1)\n",
    "g1Flux = g1.Integral(450,  800)/(10*0.000694444*25*0.01*0.01*25*binWidth)\n",
    "g1Flux = \"{:e}\".format(g1Flux)\n",
    "g2Flux = g2.Integral(1000,  1600)/(10*0.000694444*25*0.01*0.01*25*binWidth)\n",
    "g2Flux = \"{:e}\".format(g2Flux)\n",
    "print(\"The K-40 flux is: \", g1Flux, \"gammas/m^2/day\")\n",
    "print(\"The Tl-208 flux is: \", g2Flux, \"gammas/m^2/day\")"
   ]
  },
  {
   "cell_type": "code",
   "execution_count": null,
   "id": "0512b932",
   "metadata": {},
   "outputs": [],
   "source": []
  }
 ],
 "metadata": {
  "kernelspec": {
   "display_name": "Python 3 (ipykernel)",
   "language": "python",
   "name": "python3"
  },
  "language_info": {
   "codemirror_mode": {
    "name": "ipython",
    "version": 3
   },
   "file_extension": ".py",
   "mimetype": "text/x-python",
   "name": "python",
   "nbconvert_exporter": "python",
   "pygments_lexer": "ipython3",
   "version": "3.8.10"
  }
 },
 "nbformat": 4,
 "nbformat_minor": 5
}
