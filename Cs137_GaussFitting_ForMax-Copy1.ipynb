{
 "cells": [
  {
   "cell_type": "markdown",
   "id": "db95aa62",
   "metadata": {},
   "source": [
    "# Fit Gaussian to Isotope Peaks/Compton Edges"
   ]
  },
  {
   "cell_type": "markdown",
   "id": "bfda1c33",
   "metadata": {
    "slideshow": {
     "slide_type": "-"
    }
   },
   "source": [
    "### Import needed libraries"
   ]
  },
  {
   "cell_type": "code",
   "execution_count": 1,
   "id": "11bcf83c",
   "metadata": {},
   "outputs": [
    {
     "ename": "ModuleNotFoundError",
     "evalue": "No module named 'dt5202'",
     "output_type": "error",
     "traceback": [
      "\u001b[0;31m---------------------------------------------------------------------------\u001b[0m",
      "\u001b[0;31mModuleNotFoundError\u001b[0m                       Traceback (most recent call last)",
      "\u001b[0;32m/tmp/ipykernel_31785/2818743675.py\u001b[0m in \u001b[0;36m<module>\u001b[0;34m\u001b[0m\n\u001b[1;32m     19\u001b[0m \u001b[0mwarnings\u001b[0m\u001b[0;34m.\u001b[0m\u001b[0mfilterwarnings\u001b[0m\u001b[0;34m(\u001b[0m\u001b[0;34m\"ignore\"\u001b[0m\u001b[0;34m)\u001b[0m\u001b[0;34m\u001b[0m\u001b[0;34m\u001b[0m\u001b[0m\n\u001b[1;32m     20\u001b[0m \u001b[0;34m\u001b[0m\u001b[0m\n\u001b[0;32m---> 21\u001b[0;31m \u001b[0;32mfrom\u001b[0m \u001b[0mdt5202\u001b[0m \u001b[0;32mimport\u001b[0m \u001b[0mdt5202_crunch\u001b[0m\u001b[0;34m\u001b[0m\u001b[0;34m\u001b[0m\u001b[0m\n\u001b[0m\u001b[1;32m     22\u001b[0m \u001b[0mped\u001b[0m \u001b[0;34m=\u001b[0m \u001b[0;36m50\u001b[0m \u001b[0;31m#pedestal correction\u001b[0m\u001b[0;34m\u001b[0m\u001b[0;34m\u001b[0m\u001b[0m\n",
      "\u001b[0;31mModuleNotFoundError\u001b[0m: No module named 'dt5202'"
     ]
    }
   ],
   "source": [
    "import sys\n",
    "import math\n",
    "\n",
    "import numpy as np\n",
    "\n",
    "import matplotlib as mpl\n",
    "import matplotlib.pyplot as plt\n",
    "\n",
    "import matplotlib.colors as mcolors\n",
    "import scipy\n",
    "from matplotlib.colors import LogNorm\n",
    "\n",
    "import pandas as pd\n",
    "%matplotlib inline\n",
    "from scipy.optimize import curve_fit\n",
    "import scipy.signal\n",
    "\n",
    "import warnings\n",
    "warnings.filterwarnings(\"ignore\")\n",
    "\n",
    "from dt5202 import dt5202_crunch\n",
    "ped = 50 #pedestal correction"
   ]
  },
  {
   "cell_type": "markdown",
   "id": "ed14f5de",
   "metadata": {},
   "source": [
    "### Declare constants (calculated with $\\texttt{MuonPeakCalibration_Din_ThanksEmily_v1_cut.ipynb}$)"
   ]
  },
  {
   "cell_type": "code",
   "execution_count": 2,
   "id": "b38917a5",
   "metadata": {},
   "outputs": [],
   "source": [
    "adc_mev_cs = 551.0348291637422\n",
    "adc_mev_bkg = 583.9005065850638"
   ]
  },
  {
   "cell_type": "markdown",
   "id": "9bfdc1a2",
   "metadata": {},
   "source": [
    "### Load and read lab data from directory"
   ]
  },
  {
   "cell_type": "code",
   "execution_count": 3,
   "id": "14080876",
   "metadata": {
    "scrolled": true
   },
   "outputs": [
    {
     "name": "stdout",
     "output_type": "stream",
     "text": [
      "[(259, [3, 0, 3], 1, 0, 288, 0.5, 1689019979043)]\n",
      "((33, 0, 1.68901998e+09, 0, 256), (8, 3, 267, 2716))\n",
      "[(259, [3, 0, 3], 1, 0, 288, 0.5, 1689087020711)]\n",
      "((33, 0, 1.68908702e+09, 0, 256), (8, 3, 3394, 8083))\n",
      "[(259, [3, 0, 3], 1, 0, 288, 0.5, 1687894924983)]\n",
      "((33, 0, 1.68789492e+09, 0, 1), (0, 3, 190, 1899))\n"
     ]
    }
   ],
   "source": [
    "# Import data files\n",
    "folder = \"/home/dt592/data/\"\n",
    "\n",
    "sourceFolder_Cs = folder + \"Cs-173-SwirlyDin1-10min-20230710/\" #Caesium data\n",
    "sourceFolder_bkg = folder + \"BkgSwirlyDin1_10min_20230711/\" #Background data\n",
    "\n",
    "# Importing Ceasium data\n",
    "onlyfiles_Cs = [f for f in os.listdir(sourceFolder_Cs) if '.dat' in f]\n",
    "data_list_Cs = []\n",
    "for file in onlyfiles_Cs:\n",
    "    data_list_Cs.append(dt5202_crunch(str(sourceFolder_Cs)+str(file), num_ev=10000000, num_ch=1))\n",
    "\n",
    "data_Cs = data_list_Cs[0]\n",
    "\n",
    "for j in range(1, len(data_list_Cs)):\n",
    "    data_Cs = np.append(data_Cs, data_list_Cs[j])\n",
    "    \n",
    "# Importing Bkground to Filter out the Caesium Peak\n",
    "onlyfiles_bkg = [f for f in os.listdir(sourceFolder_bkg) if '.dat' in f]\n",
    "data_list_bkg = []\n",
    "for file in onlyfiles_bkg:\n",
    "    data_list_bkg.append(dt5202_crunch(str(sourceFolder_bkg)+str(file), num_ev=10000000, num_ch=1))\n",
    "\n",
    "data_bkg = data_list_bkg[0]\n",
    "\n",
    "for k in range(1, len(data_list_bkg)):\n",
    "    data_bkg = np.append(data_bkg, data_list_bkg[k])"
   ]
  },
  {
   "cell_type": "code",
   "execution_count": 4,
   "id": "aa165998",
   "metadata": {},
   "outputs": [],
   "source": [
    "# Convert data from ADC to MeV\n",
    "\n",
    "cs_mev = (data_Cs['data']['low_gain']-ped) / adc_mev_cs # Cesium data\n",
    "bkg_mev = (data_bkg['data']['low_gain']-ped) / adc_mev_bkg # Background"
   ]
  },
  {
   "cell_type": "markdown",
   "id": "85214db3",
   "metadata": {},
   "source": [
    "# Your task:\n",
    "\n",
    "Recognize Cs-137 peak by plotting cs_mev and bkg_mev as HISTOGRAMS in matplotlib.pyplot. Then, fit a Gaussian to what looks like a Cs-137 peak."
   ]
  },
  {
   "cell_type": "code",
   "execution_count": null,
   "id": "a8308cdb",
   "metadata": {},
   "outputs": [],
   "source": []
  }
 ],
 "metadata": {
  "kernelspec": {
   "display_name": "Python 3 (ipykernel)",
   "language": "python",
   "name": "python3"
  },
  "language_info": {
   "codemirror_mode": {
    "name": "ipython",
    "version": 3
   },
   "file_extension": ".py",
   "mimetype": "text/x-python",
   "name": "python",
   "nbconvert_exporter": "python",
   "pygments_lexer": "ipython3",
   "version": "3.8.10"
  }
 },
 "nbformat": 4,
 "nbformat_minor": 5
}
