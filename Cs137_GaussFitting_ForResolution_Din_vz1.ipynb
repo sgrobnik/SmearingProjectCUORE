{
 "cells": [
  {
   "cell_type": "markdown",
   "id": "db95aa62",
   "metadata": {},
   "source": [
    "# Fit Gaussian to Cs-137 Isotope Peak/Compton Edge\n",
    "\n",
    "#### Din-Ammar Tolj - Y25\n",
    "Maruyama Group, Summer 2023\n",
    "\n",
    "This notebook fits a Gaussian to Cs-137 run in order to find a value for \"sigma\" which will be used in the smearing project. The decay rate is also calculated."
   ]
  },
  {
   "cell_type": "markdown",
   "id": "bfda1c33",
   "metadata": {
    "slideshow": {
     "slide_type": "-"
    }
   },
   "source": [
    "### Import needed libraries"
   ]
  },
  {
   "cell_type": "code",
   "execution_count": 1,
   "id": "11bcf83c",
   "metadata": {},
   "outputs": [
    {
     "name": "stdout",
     "output_type": "stream",
     "text": [
      "Welcome to JupyROOT 6.24/02\n"
     ]
    },
    {
     "name": "stderr",
     "output_type": "stream",
     "text": [
      "/tmp/ipykernel_43815/13054003.py:29: MatplotlibDeprecationWarning: Support for setting the 'text.latex.preamble' or 'pgf.preamble' rcParam to a list of strings is deprecated since 3.3 and will be removed two minor releases later; set it to a single string instead.\n",
      "  mpl.rcParams['text.latex.preamble'] = [r'\\usepackage{amsmath}'] #for \\text command\n"
     ]
    },
    {
     "name": "stdout",
     "output_type": "stream",
     "text": [
      "/vast/palmer/home.grace/dt592/Geant4Work/gamma_sim/gamma_sim-build\n",
      "/vast/palmer/home.grace/dt592/Geant4Work\n"
     ]
    }
   ],
   "source": [
    "import ROOT\n",
    "\n",
    "import sys\n",
    "import math\n",
    "\n",
    "import numpy as np\n",
    "from ROOT import TH1D,TF1, gRandom, gPad, gStyle, TCanvas\n",
    "import matplotlib as mpl\n",
    "import matplotlib.pyplot as plt\n",
    "from ROOT import TChain, TSelector, TTree\n",
    "import os\n",
    "import matplotlib.colors as mcolors\n",
    "import scipy\n",
    "from matplotlib.colors import LogNorm\n",
    "import pandas as pd\n",
    "import seaborn as sns\n",
    "%matplotlib inline\n",
    "import matplotlib.colors as colors\n",
    "from scipy.optimize import curve_fit\n",
    "import scipy.signal\n",
    "from lmfit.models import GaussianModel, ConstantModel\n",
    "from datetime import datetime\n",
    "from glob import glob\n",
    "\n",
    "mpl.rcParams['text.usetex'] = True\n",
    "mpl.rcParams['mathtext.rm'] = 'Times New Roman'\n",
    "mpl.rcParams['mathtext.it'] = 'Times New Roman:italic'\n",
    "mpl.rcParams['mathtext.bf'] = 'Times New Roman:bold'\n",
    "mpl.rcParams['text.latex.preamble'] = [r'\\usepackage{amsmath}'] #for \\text command\n",
    "\n",
    "mpl.rc('font', family='serif', size=14)\n",
    "mpl.rcParams['xtick.labelsize'] = 20\n",
    "mpl.rcParams['ytick.labelsize'] = 20\n",
    "mpl.rcParams['xtick.major.size'] = 8\n",
    "mpl.rcParams['ytick.major.size'] = 8\n",
    "\n",
    "mpl.rcParams['axes.titlesize'] = 18\n",
    "mpl.rcParams['axes.labelsize'] = 22\n",
    "mpl.rcParams['axes.linewidth'] = 1.2 # set the value globally\n",
    "\n",
    "# mpl.rc('font', size=16)\n",
    "mpl.rc('axes', titlesize=22)\n",
    "\n",
    "current_palette = sns.color_palette('colorblind', 10)\n",
    "import warnings\n",
    "warnings.filterwarnings(\"ignore\")\n",
    "\n",
    "# Import parser that Tom wrote. This is containted in the file named dt5202.py in this folder.\n",
    "%cd /home/dt592/Geant4Work/gamma_sim/gamma_sim-build\n",
    "from dt5202 import dt5202_crunch\n",
    "# from dt5202oldDAQ import dt5202_crunch as dt5202_crunch_oldDAQ\n",
    "ped = 50 #pedestal correction\n",
    "\n",
    "# Import Langaus fit curve for PyROOT.\n",
    "from langaus import LanGausFit\n",
    "%cd -\n",
    "from root_numpy import array2hist, hist2array, fill_hist"
   ]
  },
  {
   "cell_type": "markdown",
   "id": "ed14f5de",
   "metadata": {},
   "source": [
    "### Declare constants (calculated with $\\texttt{MuonPeakCalibration_Din_ThanksEmily_v1_cut.ipynb}$)"
   ]
  },
  {
   "cell_type": "code",
   "execution_count": 2,
   "id": "b38917a5",
   "metadata": {},
   "outputs": [],
   "source": [
    "adc_mev_cs = 551.0348291637422\n",
    "adc_mev_bkg = 583.9005065850638\n",
    "adc_mev_bkg2min = 575.4041720670236"
   ]
  },
  {
   "cell_type": "markdown",
   "id": "9bfdc1a2",
   "metadata": {},
   "source": [
    "### Load and read lab data from directory"
   ]
  },
  {
   "cell_type": "code",
   "execution_count": 32,
   "id": "14080876",
   "metadata": {
    "scrolled": true
   },
   "outputs": [
    {
     "name": "stdout",
     "output_type": "stream",
     "text": [
      "[(259, [3, 0, 3], 1, 0, 288, 0.5, 1689019979043)]\n",
      "((33, 0, 1.68901998e+09, 0, 256), (8, 3, 267, 2716))\n",
      "[(259, [3, 0, 3], 1, 0, 288, 0.5, 1689087020711)]\n",
      "((33, 0, 1.68908702e+09, 0, 256), (8, 3, 3394, 8083))\n"
     ]
    }
   ],
   "source": [
    "# Import data files\n",
    "folder = \"/home/dt592/data/\"\n",
    "\n",
    "sourceFolder_Cs = folder + \"Cs-173-SwirlyDin1-10min-20230710/\" #Caesium data\n",
    "sourceFolder_bkg = folder + \"BkgSwirlyDin1_10min_20230711/\" #Background data\n",
    "# sourceFolder_Eu = folder + \"Eu-152-SwirlyDin1-2min-20230717/\" #Europium data\n",
    "# sourceFolder_Co57 = folder + \"Co-57-SwirlyDin1-2min-20230717/\" #Co-57\n",
    "# sourceFolder_Co60 = folder + \"Co-60-SwirlyDin1-2min-20230717/\" #Co-60\n",
    "# sourceFolder_bkg2min = folder + \"swirlyPanel_2min_bkg/\" #Bkg 2 min data\n",
    "\n",
    "# Importing Ceasium data\n",
    "onlyfiles_Cs = [f for f in os.listdir(sourceFolder_Cs) if '.dat' in f]\n",
    "data_list_Cs = []\n",
    "for file in onlyfiles_Cs:\n",
    "    data_list_Cs.append(dt5202_crunch(str(sourceFolder_Cs)+str(file), num_ev=10000000, num_ch=1))\n",
    "\n",
    "data_Cs = data_list_Cs[0]\n",
    "\n",
    "for j in range(1, len(data_list_Cs)):\n",
    "    data_Cs = np.append(data_Cs, data_list_Cs[j])\n",
    "    \n",
    "# Importing Bkground to Filter out the Caesium Peak\n",
    "onlyfiles_bkg = [f for f in os.listdir(sourceFolder_bkg) if '.dat' in f]\n",
    "data_list_bkg = []\n",
    "for file in onlyfiles_bkg:\n",
    "    data_list_bkg.append(dt5202_crunch(str(sourceFolder_bkg)+str(file), num_ev=10000000, num_ch=1))\n",
    "\n",
    "data_bkg = data_list_bkg[0]\n",
    "\n",
    "for k in range(1, len(data_list_bkg)):\n",
    "    data_bkg = np.append(data_bkg, data_list_bkg[k])\n",
    "    \n",
    "# # Importing 2 min Bkground\n",
    "# onlyfiles_bkg2min = [f for f in os.listdir(sourceFolder_bkg2min) if '.dat' in f]\n",
    "# data_list_bkg2min = []\n",
    "# for file in onlyfiles_bkg2min:\n",
    "#     data_list_bkg2min.append(dt5202_crunch(str(sourceFolder_bkg2min)+str(file), num_ev=10000000, num_ch=1))\n",
    "\n",
    "# data_bkg2min = data_list_bkg2min[0]\n",
    "\n",
    "# for l in range(1, len(data_list_bkg2min)):\n",
    "#     data_bkg2min = np.append(data_bkg2min, data_list_bkg2min[l])"
   ]
  },
  {
   "cell_type": "code",
   "execution_count": 34,
   "id": "aa165998",
   "metadata": {},
   "outputs": [],
   "source": [
    "# Convert data from ADC to MeV\n",
    "\n",
    "cs_mev = (data_Cs['data']['low_gain']-ped) / adc_mev_cs # Cesium data\n",
    "bkg_mev = (data_bkg['data']['low_gain']-ped) / adc_mev_bkg # Background\n",
    "# bkg2min_mev = (data_bkg2min['data']['low_gain']-ped) / adc_mev_bkg2min # Background (2 min)"
   ]
  },
  {
   "cell_type": "markdown",
   "id": "6c079273",
   "metadata": {},
   "source": [
    "### Plot Cs-137 Data, Fit Gaussian in PyROOT"
   ]
  },
  {
   "cell_type": "code",
   "execution_count": 35,
   "id": "968aa682",
   "metadata": {
    "scrolled": false
   },
   "outputs": [
    {
     "data": {
      "image/png": "[encoded data removed]",
      "text/plain": [
       "<Figure size 720x504 with 1 Axes>"
      ]
     },
     "metadata": {
      "needs_background": "light"
     },
     "output_type": "display_data"
    }
   ],
   "source": [
    "plt.figure(figsize=(10,7))\n",
    "plt.hist(cs_mev, bins=200, range=(0,15), histtype='step', label = \"Cs-137 Run\", lw = 2)\n",
    "plt.hist(bkg_mev, bins=200, range=(0,15), histtype='step', label = \"Background Run\", lw = 2)\n",
    "\n",
    "# Estimation of Cs-137 peak?\n",
    "# plt.axvline(0.23,color='red')\n",
    "# plt.axvline(0.58,color='red')\n",
    "\n",
    "plt.yscale('log')\n",
    "plt.xlabel('Energy Deposited (MeV)')\n",
    "plt.ylabel('Number of Events (Counts)')\n",
    "plt.title('Swirly Panel, LG')\n",
    "plt.legend()\n",
    "plt.grid(alpha = 0.5)\n",
    "plt.tight_layout()\n",
    "plt.xlim(0,15)\n",
    "\n",
    "# plt.savefig(\"Cs137wBg.jpg\")\n",
    "plt.show()"
   ]
  },
  {
   "cell_type": "code",
   "execution_count": 48,
   "id": "e8a2dd04",
   "metadata": {},
   "outputs": [
    {
     "name": "stdout",
     "output_type": "stream",
     "text": [
      " FCN=981.028 FROM MIGRAD    STATUS=CONVERGED      72 CALLS          73 TOTAL\n",
      "                     EDM=9.84404e-08    STRATEGY= 1  ERROR MATRIX UNCERTAINTY   1.4 per cent\n",
      "  EXT PARAMETER                                   STEP         FIRST   \n",
      "  NO.   NAME      VALUE            ERROR          SIZE      DERIVATIVE \n",
      "   1  Constant     4.58821e+05   2.08097e+02  -3.63435e+00  -2.62925e-06\n",
      "   2  Mean         3.17151e-01   1.50669e-04   9.48862e-06  -3.71388e+00\n",
      "   3  Sigma        1.60073e-01   1.09917e-04  -1.35415e-06  -9.25851e+00\n"
     ]
    },
    {
     "name": "stderr",
     "output_type": "stream",
     "text": [
      "/gpfs/gibbs/project/maruyama/dt592/conda_envs/ROOT6/lib/python3.8/site-packages/root_numpy/_hist.py:75: DeprecationWarning: `np.int` is a deprecated alias for the builtin `int`. To silence this warning, use `int` by itself. Doing this will not modify any behavior and is safe. When replacing `np.int`, you may wish to use e.g. `np.int64` or `np.int32` to specify the precision. If you wish to review your current use, check the release note link for additional information.\n",
      "Deprecated in NumPy 1.20; for more details and guidance: https://numpy.org/devdocs/release/1.20.0-notes.html#deprecations\n",
      "  return _librootnumpy.fill_h1(\n",
      "/gpfs/gibbs/project/maruyama/dt592/conda_envs/ROOT6/lib/python3.8/site-packages/root_numpy/_hist.py:75: DeprecationWarning: `np.int` is a deprecated alias for the builtin `int`. To silence this warning, use `int` by itself. Doing this will not modify any behavior and is safe. When replacing `np.int`, you may wish to use e.g. `np.int64` or `np.int32` to specify the precision. If you wish to review your current use, check the release note link for additional information.\n",
      "Deprecated in NumPy 1.20; for more details and guidance: https://numpy.org/devdocs/release/1.20.0-notes.html#deprecations\n",
      "  return _librootnumpy.fill_h1(\n",
      "Warning in <TCanvas::Constructor>: Deleting canvas with same name: c1\n",
      "Warning in <TROOT::Append>: Replacing existing TH1: Gaussian Fit (Potential memory leak).\n",
      "Warning in <TROOT::Append>: Replacing existing TH1: bkg (Potential memory leak).\n",
      "Info in <TCanvas::Print>: png file Cs137GaussFit_vz3.png has been created\n"
     ]
    },
    {
     "data": {
      "image/png": "[encoded data removed]",
      "text/plain": [
       "<IPython.core.display.Image object>"
      ]
     },
     "metadata": {},
     "output_type": "display_data"
    }
   ],
   "source": [
    "# Turn cs_mev into a ROOT Histogram\n",
    "c1 = ROOT.TCanvas('c1','', 200, 10, 750, 450)\n",
    "cs_hpx = ROOT.TH1D('Gaussian Fit', 'Cs-137 Run w/ Gaussian Fit, LG', 200, 0, 4)\n",
    "bkg_hpx = ROOT.TH1D('bkg', 'bkg', 200, 0, 4)\n",
    "fill_hist(cs_hpx, cs_mev)\n",
    "fill_hist(bkg_hpx, bkg_mev)\n",
    "\n",
    "# Define Gaussian as a custom function, this will be convenient later\n",
    "gaussian = ROOT.TF1(\"gaussian\",\"[0] * exp((-(x-[1])**2)/(2*[2]**2))\", 0.2, 0.7)\n",
    "gaussian.SetParameters(2.8*10**5, 0.3, 0.15)\n",
    "gaussian.SetParNames(\"Constant\", \"Mean\", \"Sigma\")\n",
    "gaussian.SetTitle(\"Gaussian Fit\")\n",
    "\n",
    "# Draw the function\n",
    "cs_hpx.Draw()\n",
    "cs_hpx.GetXaxis().SetTitle(\"Energy deposited (MeV)\")\n",
    "cs_hpx.GetYaxis().SetTitle(\"Counts/bin\")\n",
    "ROOT.gPad.SetLogy()\n",
    "# ROOT.gPad.SetGrid()\n",
    "ROOT.gStyle.SetOptStat(0)\n",
    "cs_hpx.Fit(\"gaussian\",\"R\")\n",
    "# gaussian.SetLineWidth()\n",
    "gaussian.Draw(\"same\")\n",
    "gaussian.SetLineWidth(3)\n",
    "ROOT.gStyle.SetOptFit()\n",
    "bkg_hpx.Draw(\"same\")\n",
    "cs_hpx.SetLineWidth(2)\n",
    "# cs_hpx.SetLineColor(9)\n",
    "\n",
    "bkg_hpx.SetLineColor(12)\n",
    "bkg_hpx.SetLineWidth(2)\n",
    "\n",
    "legend = ROOT.TLegend(0.14,0.16,0.36,0.29)\n",
    "legend.AddEntry(cs_hpx,\"Cs-137 Run\",\"l\")\n",
    "legend.AddEntry(gaussian,\"Gaussian fit\",\"l\")\n",
    "legend.AddEntry(bkg_hpx,\"Background run\",\"l\")\n",
    "legend.Draw()\n",
    "\n",
    "c1.Draw()\n",
    "# c1.SaveAs(\"Cs137GaussFit_vz3.png\")"
   ]
  },
  {
   "cell_type": "code",
   "execution_count": 36,
   "id": "52e62f80",
   "metadata": {},
   "outputs": [
    {
     "name": "stdout",
     "output_type": "stream",
     "text": [
      "0.011000000000000001\n",
      "Decay rate of Cs-137 source: 11636.944/sec\n"
     ]
    }
   ],
   "source": [
    "binWidth = cs_hpx.GetBinWidth(1)\n",
    "print(binWidth)\n",
    "cs_dr = (gaussian.Integral(0.2, 0.7))/(10*60*binWidth)\n",
    "print(\"Decay rate of Cs-137 source: %0.3f/sec\"%cs_dr)"
   ]
  },
  {
   "cell_type": "markdown",
   "id": "73683a74",
   "metadata": {},
   "source": [
    "NOTE: Pause for now, ran into complication with the way Cs-137 source decays. Talk to Jorge to see where to go from here. Value of sigma is good though!"
   ]
  }
 ],
 "metadata": {
  "kernelspec": {
   "display_name": "Python 3 (ipykernel)",
   "language": "python",
   "name": "python3"
  },
  "language_info": {
   "codemirror_mode": {
    "name": "ipython",
    "version": 3
   },
   "file_extension": ".py",
   "mimetype": "text/x-python",
   "name": "python",
   "nbconvert_exporter": "python",
   "pygments_lexer": "ipython3",
   "version": "3.8.10"
  }
 },
 "nbformat": 4,
 "nbformat_minor": 5
}
