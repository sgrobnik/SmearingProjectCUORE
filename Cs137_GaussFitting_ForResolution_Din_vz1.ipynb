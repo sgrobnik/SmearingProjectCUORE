{
 "cells": [
  {
   "cell_type": "markdown",
   "id": "db95aa62",
   "metadata": {},
   "source": [
    "# Fit Gaussian to Cs-137 Isotope Peak/Compton Edge (vz1)\n",
    "\n",
    "#### Din-Ammar Tolj - Y25\n",
    "Maruyama Group, Summer 2023\n",
    "\n",
    "This notebook fits a Gaussian to Cs-137 run in order to find a value for \"sigma\" which will be used in the smearing project. The decay rate is also calculated."
   ]
  },
  {
   "cell_type": "markdown",
   "id": "bfda1c33",
   "metadata": {
    "slideshow": {
     "slide_type": "-"
    }
   },
   "source": [
    "### Import needed libraries"
   ]
  },
  {
   "cell_type": "code",
   "execution_count": 3,
   "id": "11bcf83c",
   "metadata": {},
   "outputs": [
    {
     "name": "stdout",
     "output_type": "stream",
     "text": [
      "/home/coure/Din_SmearingProject_Summer2023/libs\n",
      "/home/coure/Din_SmearingProject_Summer2023\n"
     ]
    }
   ],
   "source": [
    "import numpy as np\n",
    "\n",
    "import ROOT\n",
    "from ROOT import *\n",
    "import ctypes\n",
    "from ctypes import *\n",
    "from root_numpy import array2hist, hist2array, fill_hist\n",
    "\n",
    "import sys\n",
    "import math\n",
    "\n",
    "import os\n",
    "from scipy.optimize import *\n",
    "import pandas as pd\n",
    "import seaborn as sns\n",
    "\n",
    "from datetime import datetime\n",
    "from glob import glob\n",
    "\n",
    "%cd libs/\n",
    "from dt5202 import dt5202_crunch # Import parser that Tom wrote. This is containted in the file \n",
    "                                 # named dt5202.py in the lib folder.\n",
    "from dt5202oldDAQ import dt5202_crunch as dt5202_crunch_oldDAQ # Old ver\n",
    "\n",
    "from langaus import LanGausFit \n",
    "%cd -\n",
    "\n",
    "import warnings\n",
    "warnings.filterwarnings(\"ignore\")"
   ]
  },
  {
   "cell_type": "markdown",
   "id": "ed14f5de",
   "metadata": {},
   "source": [
    "### Declare constants (calculated with $\\texttt{MuonPeakCalibration_Din_ThanksEmily_vz1_cut.ipynb}$)"
   ]
  },
  {
   "cell_type": "code",
   "execution_count": 7,
   "id": "b38917a5",
   "metadata": {},
   "outputs": [],
   "source": [
    "ped = 50 # Pedestal correction for dt5202\n",
    "\n",
    "# ADC/MeV\n",
    "adc_mev_cs = 551.0348291637422\n",
    "adc_mev_bkg = 583.9005065850638\n",
    "adc_mev_bkg2min = 575.4041720670236"
   ]
  },
  {
   "cell_type": "markdown",
   "id": "9bfdc1a2",
   "metadata": {},
   "source": [
    "### Load and read lab data from directory"
   ]
  },
  {
   "cell_type": "code",
   "execution_count": 5,
   "id": "14080876",
   "metadata": {
    "scrolled": true
   },
   "outputs": [
    {
     "name": "stdout",
     "output_type": "stream",
     "text": [
      "[(259, [3, 0, 3], 1, 0, 288, 0.5, 1689019979043)]\n",
      "((33, 0, 1.68901998e+09, 0, 256), (8, 3, 267, 2716))\n",
      "[(259, [3, 0, 3], 1, 0, 288, 0.5, 1689087020711)]\n",
      "((33, 0, 1.68908702e+09, 0, 256), (8, 3, 3394, 8083))\n"
     ]
    }
   ],
   "source": [
    "# Import data files\n",
    "folder = \"/data/\"\n",
    "\n",
    "sourceFolder_Cs = folder + \"CsSwirlyDin1_20230710/\" #Caesium data\n",
    "sourceFolder_bkg = folder + \"BkgSwirlyDin1_10min_20230711/\" #Background data\n",
    "# sourceFolder_Eu = folder + \"Eu-152-SwirlyDin1-2min-20230717/\" #Europium data\n",
    "# sourceFolder_Co57 = folder + \"Co-57-SwirlyDin1-2min-20230717/\" #Co-57\n",
    "# sourceFolder_Co60 = folder + \"Co-60-SwirlyDin1-2min-20230717/\" #Co-60\n",
    "# sourceFolder_bkg2min = folder + \"swirlyPanel_2min_bkg/\" #Bkg 2 min data\n",
    "\n",
    "# Importing Ceasium data\n",
    "onlyfiles_Cs = [f for f in os.listdir(sourceFolder_Cs) if '.dat' in f]\n",
    "data_list_Cs = []\n",
    "for file in onlyfiles_Cs:\n",
    "    data_list_Cs.append(dt5202_crunch(str(sourceFolder_Cs)+str(file), num_ev=10000000, num_ch=1))\n",
    "\n",
    "data_Cs = data_list_Cs[0]\n",
    "\n",
    "for j in range(1, len(data_list_Cs)):\n",
    "    data_Cs = np.append(data_Cs, data_list_Cs[j])\n",
    "    \n",
    "# Importing Bkground to Filter out the Caesium Peak\n",
    "onlyfiles_bkg = [f for f in os.listdir(sourceFolder_bkg) if '.dat' in f]\n",
    "data_list_bkg = []\n",
    "for file in onlyfiles_bkg:\n",
    "    data_list_bkg.append(dt5202_crunch(str(sourceFolder_bkg)+str(file), num_ev=10000000, num_ch=1))\n",
    "\n",
    "data_bkg = data_list_bkg[0]\n",
    "\n",
    "for k in range(1, len(data_list_bkg)):\n",
    "    data_bkg = np.append(data_bkg, data_list_bkg[k])\n",
    "    \n",
    "# # Importing 2 min Bkground\n",
    "# onlyfiles_bkg2min = [f for f in os.listdir(sourceFolder_bkg2min) if '.dat' in f]\n",
    "# data_list_bkg2min = []\n",
    "# for file in onlyfiles_bkg2min:\n",
    "#     data_list_bkg2min.append(dt5202_crunch(str(sourceFolder_bkg2min)+str(file), num_ev=10000000, num_ch=1))\n",
    "\n",
    "# data_bkg2min = data_list_bkg2min[0]\n",
    "\n",
    "# for l in range(1, len(data_list_bkg2min)):\n",
    "#     data_bkg2min = np.append(data_bkg2min, data_list_bkg2min[l])"
   ]
  },
  {
   "cell_type": "code",
   "execution_count": 8,
   "id": "aa165998",
   "metadata": {},
   "outputs": [],
   "source": [
    "# Convert data from ADC to MeV\n",
    "\n",
    "cs_mev = (data_Cs['data']['low_gain']-ped) / adc_mev_cs # Cesium data\n",
    "bkg_mev = (data_bkg['data']['low_gain']-ped) / adc_mev_bkg # Background\n",
    "# bkg2min_mev = (data_bkg2min['data']['low_gain']-ped) / adc_mev_bkg2min # Background (2 min)"
   ]
  },
  {
   "cell_type": "markdown",
   "id": "6c079273",
   "metadata": {},
   "source": [
    "### Plot Cs-137 data, fit Gaussian with pyROOT"
   ]
  },
  {
   "cell_type": "code",
   "execution_count": 15,
   "id": "e8a2dd04",
   "metadata": {},
   "outputs": [
    {
     "name": "stdout",
     "output_type": "stream",
     "text": [
      " FCN=981.028 FROM MIGRAD    STATUS=CONVERGED      72 CALLS          73 TOTAL\n",
      "                     EDM=9.84404e-08    STRATEGY= 1  ERROR MATRIX UNCERTAINTY   1.4 per cent\n",
      "  EXT PARAMETER                                   STEP         FIRST   \n",
      "  NO.   NAME      VALUE            ERROR          SIZE      DERIVATIVE \n",
      "   1  Constant     4.58821e+05   2.08097e+02  -3.63435e+00  -2.62925e-06\n",
      "   2  Mean         3.17151e-01   1.50669e-04   9.48862e-06  -3.71388e+00\n",
      "   3  Sigma        1.60073e-01   1.09917e-04  -1.35415e-06  -9.25851e+00\n"
     ]
    },
    {
     "name": "stderr",
     "output_type": "stream",
     "text": [
      "Warning in <TCanvas::Constructor>: Deleting canvas with same name: c2\n",
      "Warning in <TROOT::Append>: Replacing existing TH1: Gaussian Fit (Potential memory leak).\n",
      "Warning in <TROOT::Append>: Replacing existing TH1: bkg (Potential memory leak).\n"
     ]
    },
    {
     "data": {
      "image/png": "[encoded data removed]",
      "text/plain": [
       "<IPython.core.display.Image object>"
      ]
     },
     "metadata": {},
     "output_type": "display_data"
    }
   ],
   "source": [
    "# Turn cs_mev into a ROOT Histogram\n",
    "c2 = ROOT.TCanvas('c2','', 750, 350)\n",
    "cs_hpx = ROOT.TH1D('Gaussian Fit', 'Cs-137 Run w/ Gaussian Fit, LG', 200, 0, 4)\n",
    "bkg_hpx = ROOT.TH1D('bkg', 'bkg', 200, 0, 4)\n",
    "fill_hist(cs_hpx, cs_mev)\n",
    "fill_hist(bkg_hpx, bkg_mev)\n",
    "\n",
    "# Define Gaussian as a custom function, this will be convenient later\n",
    "gaussian = ROOT.TF1(\"gaussian\",\"[0] * exp((-(x-[1])**2)/(2*[2]**2))\", 0.2, 0.7)\n",
    "gaussian.SetParameters(2.8*10**5, 0.3, 0.15)\n",
    "gaussian.SetParNames(\"Constant\", \"Mean\", \"Sigma\")\n",
    "gaussian.SetTitle(\"Gaussian Fit\")\n",
    "\n",
    "# Draw the function\n",
    "cs_hpx.Draw()\n",
    "cs_hpx.GetXaxis().SetTitle(\"Energy deposited (MeV)\")\n",
    "cs_hpx.GetYaxis().SetTitle(\"Counts/bin\")\n",
    "ROOT.gPad.SetLogy()\n",
    "# ROOT.gPad.SetGridx()\n",
    "ROOT.gStyle.SetOptStat(0)\n",
    "cs_hpx.Fit(\"gaussian\",\"R\")\n",
    "# gaussian.SetLineWidth()\n",
    "gaussian.Draw(\"same\")\n",
    "gaussian.SetLineWidth(3)\n",
    "ROOT.gStyle.SetOptFit()\n",
    "bkg_hpx.Draw(\"same\")\n",
    "cs_hpx.SetLineWidth(2)\n",
    "cs_hpx.SetLineColor(kBlue+2)\n",
    "\n",
    "bkg_hpx.SetLineColor(kTeal-1)\n",
    "bkg_hpx.SetLineWidth(2)\n",
    "\n",
    "legend = ROOT.TLegend(0.14,0.16,0.4,0.32)\n",
    "legend.AddEntry(cs_hpx,\"Cs-137 Run\",\"l\")\n",
    "legend.AddEntry(bkg_hpx,\"Background run\",\"l\")\n",
    "legend.AddEntry(gaussian,\"Gaussian fit\",\"l\")\n",
    "legend.Draw()\n",
    "\n",
    "c2.Draw()\n",
    "# c2.SaveAs(\"Cs137GaussFit_vz3.png\")"
   ]
  },
  {
   "cell_type": "code",
   "execution_count": 21,
   "id": "d13f4320",
   "metadata": {},
   "outputs": [
    {
     "data": {
      "text/plain": [
       "0.16007343258163068"
      ]
     },
     "execution_count": 21,
     "metadata": {},
     "output_type": "execute_result"
    }
   ],
   "source": [
    "gaussian.GetParameter('Sigma')"
   ]
  },
  {
   "cell_type": "code",
   "execution_count": 36,
   "id": "52e62f80",
   "metadata": {},
   "outputs": [
    {
     "name": "stdout",
     "output_type": "stream",
     "text": [
      "0.011000000000000001\n",
      "Decay rate of Cs-137 source: 11636.944/sec\n"
     ]
    }
   ],
   "source": [
    "binWidth = cs_hpx.GetBinWidth(1)\n",
    "print(binWidth)\n",
    "cs_dr = (gaussian.Integral(0.2, 0.7))/(10*60*binWidth)\n",
    "print(\"Decay rate of Cs-137 source: %0.3f/sec\"%cs_dr)"
   ]
  },
  {
   "cell_type": "markdown",
   "id": "73683a74",
   "metadata": {},
   "source": [
    "NOTE: Pause for now, ran into complication with the way Cs-137 source decays. Talk to Jorge to see where to go from here. Value of sigma is good though!"
   ]
  }
 ],
 "metadata": {
  "kernelspec": {
   "display_name": "Python 3 (ipykernel)",
   "language": "python",
   "name": "python3"
  },
  "language_info": {
   "codemirror_mode": {
    "name": "ipython",
    "version": 3
   },
   "file_extension": ".py",
   "mimetype": "text/x-python",
   "name": "python",
   "nbconvert_exporter": "python",
   "pygments_lexer": "ipython3",
   "version": "3.8.10"
  }
 },
 "nbformat": 4,
 "nbformat_minor": 5
}
