{
 "cells": [
  {
   "cell_type": "markdown",
   "id": "7ec11948",
   "metadata": {
    "tags": []
   },
   "source": [
    "# Estimate deadtime by using data taken in the surface"
   ]
  },
  {
   "cell_type": "markdown",
   "id": "94d13bb8",
   "metadata": {},
   "source": [
    "#### Created by Jorge Torres, 6/16/2023"
   ]
  },
  {
   "cell_type": "markdown",
   "id": "77c8a32e",
   "metadata": {},
   "source": [
    "### Import needed libraries"
   ]
  },
  {
   "cell_type": "code",
   "execution_count": null,
   "id": "f4699e1e",
   "metadata": {},
   "outputs": [],
   "source": [
    "import ROOT\n",
    "\n",
    "import sys\n",
    "import math\n",
    "\n",
    "import numpy as np\n",
    "from ROOT import TH1D,TF1, gRandom, gPad, gStyle, TCanvas\n",
    "import matplotlib as mpl\n",
    "import matplotlib.pyplot as plt\n",
    "from ROOT import TChain, TSelector, TTree\n",
    "import os\n",
    "import matplotlib.colors as mcolors\n",
    "import scipy\n",
    "from matplotlib.colors import LogNorm\n",
    "import pandas as pd\n",
    "import seaborn as sns\n",
    "%matplotlib inline\n",
    "import matplotlib.colors as colors\n",
    "from scipy.optimize import curve_fit\n",
    "import scipy.signal\n",
    "from lmfit.models import GaussianModel, ConstantModel\n",
    "from datetime import datetime\n",
    "from glob import glob"
   ]
  },
  {
   "cell_type": "code",
   "execution_count": null,
   "id": "98d11904",
   "metadata": {},
   "outputs": [],
   "source": [
    "mpl.rcParams['text.usetex'] = True\n",
    "mpl.rcParams['mathtext.rm'] = 'Times New Roman'\n",
    "mpl.rcParams['mathtext.it'] = 'Times New Roman:italic'\n",
    "mpl.rcParams['mathtext.bf'] = 'Times New Roman:bold'\n",
    "mpl.rcParams['text.latex.preamble'] = [r'\\usepackage{amsmath}'] #for \\text command\n",
    "\n",
    "mpl.rc('font', family='serif', size=14)\n",
    "mpl.rcParams['xtick.labelsize'] = 20\n",
    "mpl.rcParams['ytick.labelsize'] = 20\n",
    "mpl.rcParams['xtick.major.size'] = 8\n",
    "mpl.rcParams['ytick.major.size'] = 8\n",
    "\n",
    "mpl.rcParams['axes.titlesize'] = 18\n",
    "mpl.rcParams['axes.labelsize'] = 22\n",
    "mpl.rcParams['axes.linewidth'] = 1.2 # set the value globally\n",
    "\n",
    "# mpl.rc('font', size=16)\n",
    "mpl.rc('axes', titlesize=22)\n",
    "\n",
    "current_palette = sns.color_palette('colorblind', 10)\n",
    "import warnings\n",
    "warnings.filterwarnings(\"ignore\")"
   ]
  },
  {
   "cell_type": "markdown",
   "id": "6ec0f820",
   "metadata": {},
   "source": [
    "### Import parser that Tom wrote. This is containted in the file named $\\texttt{dt5202.py}$ in this folder"
   ]
  },
  {
   "cell_type": "code",
   "execution_count": null,
   "id": "504e3e61",
   "metadata": {},
   "outputs": [],
   "source": [
    "from dt5202 import dt5202_crunch\n",
    "\n",
    "from dt5202oldDAQ import dt5202_crunch as dt5202_crunch_oldDAQ\n",
    "ped = 100 #pedestal correction"
   ]
  },
  {
   "cell_type": "code",
   "execution_count": null,
   "id": "d489b8cf",
   "metadata": {
    "scrolled": true
   },
   "outputs": [],
   "source": [
    "#Import data files\n",
    "#sourceFolder = \"/data/20220826_AND48hrs#/\"\n",
    "sourceFolder = \"/data/board1771_01192023_retestingSwirlyPanel/\"\n",
    "#folder_name = os.getcwd() # could use this if analysis code is in the same directory as data\n",
    "#loading all files in this directory\n",
    "onlyfiles = [f for f in os.listdir(sourceFolder) if '.dat' in f]\n",
    "print(onlyfiles)\n",
    "data_list = []\n",
    "for file in onlyfiles:\n",
    "    \n",
    "    data_list.append(dt5202_crunch(str(sourceFolder)+str(file), num_ev=100000000, num_ch=1))\n",
    "\n",
    "data = data_list[0]\n",
    "\n",
    "for i in range(1, len(data_list)):\n",
    "    data = np.append(data, data_list[i])\n",
    "\n",
    "#f = sourceFolder+'Run0_list.dat'\n",
    "#data = dt5202_crunch(f, num_ev=10000000, num_ch=2)"
   ]
  },
  {
   "cell_type": "code",
   "execution_count": null,
   "id": "f4ca9d94",
   "metadata": {},
   "outputs": [],
   "source": [
    "print (data[0])\n",
    "print (data[1])\n",
    "#print (data[2])\n",
    "#print (data[3])\n",
    "\n",
    "#print (data[4])\n",
    "#print (data[64])\n",
    "\n",
    "\n",
    "# print (data['data']['low_gain'][:,0])\n",
    "# print (data['data']['high_gain'][0])\n",
    "# print (data['data']['low_gain'][3])\n",
    "# print (data['data']['high_gain'][3])\n",
    "# print (data['data']['low_gain'][5])\n",
    "# print (data['data']['high_gain'][5])\n",
    "#print (data['channel_id']['data']['high_gain'][0])"
   ]
  },
  {
   "cell_type": "code",
   "execution_count": null,
   "id": "46859c06",
   "metadata": {},
   "outputs": [],
   "source": [
    "data.shape"
   ]
  },
  {
   "cell_type": "code",
   "execution_count": null,
   "id": "0aadf9c7",
   "metadata": {},
   "outputs": [],
   "source": [
    "#plotting High Gain Data to View SPE peaks\n",
    "plt.hist(data['data']['low_gain'], bins=100, range=(10,7550),\n",
    "         histtype='step');\n",
    "#plt.xlim(3200,4500)\n",
    "# plt.ylim(0,1000)\n",
    "plt.yscale('log')\n",
    "\n",
    "plt.xlabel('ADC Counts')\n",
    "plt.ylabel('Number of Events (Counts)')\n",
    "plt.title('Histogram of ADC Counts: Prototype Panel')\n",
    "# Can work on naming scheme\n",
    "# plt.savefig(figure_folder + '/' + 'ADCHist_HighGainBigPanel.png')"
   ]
  },
  {
   "cell_type": "markdown",
   "id": "feee41b6-a749-4d6a-819e-41f4dded080d",
   "metadata": {},
   "source": [
    "## Now we can calculate the P.E./MeV by using the muon distribution from low gain data"
   ]
  },
  {
   "cell_type": "markdown",
   "id": "47febd04",
   "metadata": {},
   "source": [
    "#### A few technical details here: the Landau-Gaus fitting has to be done in ROOT, so I'll use ROOT here to do that. I'm first converting the numpy arrays into a TH1D object and then fitting."
   ]
  },
  {
   "cell_type": "code",
   "execution_count": 13,
   "id": "76e95a8d",
   "metadata": {},
   "outputs": [
    {
     "name": "stderr",
     "output_type": "stream",
     "text": [
      "/home/coure/Software/DataTakingVenv/lib/python3.8/site-packages/root_numpy/_hist.py:75: DeprecationWarning: `np.int` is a deprecated alias for the builtin `int`. To silence this warning, use `int` by itself. Doing this will not modify any behavior and is safe. When replacing `np.int`, you may wish to use e.g. `np.int64` or `np.int32` to specify the precision. If you wish to review your current use, check the release note link for additional information.\n",
      "Deprecated in NumPy 1.20; for more details and guidance: https://numpy.org/devdocs/release/1.20.0-notes.html#deprecations\n",
      "  return _librootnumpy.fill_h1(\n",
      "Warning in <TCanvas::Constructor>: Deleting canvas with same name: c1\n",
      "Warning in <TROOT::Append>: Replacing existing TH1: Gaussian-convoluted Landau (Potential memory leak).\n"
     ]
    }
   ],
   "source": [
    "from root_numpy import array2hist, hist2array, fill_hist\n",
    "c1 = TCanvas( 'c1', 'Dynamic Filling Example', 200, 10, 700, 500 )\n",
    "hpx = ROOT.TH1D( 'Gaussian-convoluted Landau', 'Background, 10 min run', 200, 0, 7500)\n",
    "#fill_hist(hpx, np.array(data['data']['low_gain'][:,1]))\n",
    "fill_hist(hpx, np.array(data['data']['low_gain']))"
   ]
  },
  {
   "cell_type": "code",
   "execution_count": 14,
   "id": "8f1b2c2c",
   "metadata": {},
   "outputs": [
    {
     "name": "stdout",
     "output_type": "stream",
     "text": [
      "/home/coure/Software/caenqdc_custom/scripts/PECollectionStudies\n",
      "/home/coure/Iris_DT5202Analzer/dt5202_analysis\n",
      " FCN=109.357 FROM MIGRAD    STATUS=CONVERGED     566 CALLS         567 TOTAL\n",
      "                     EDM=2.576e-07    STRATEGY= 1  ERROR MATRIX UNCERTAINTY   1.1 per cent\n",
      "  EXT PARAMETER                                   STEP         FIRST   \n",
      "  NO.   NAME      VALUE            ERROR          SIZE      DERIVATIVE \n",
      "   1  LandauWidth   3.57330e+02   5.09365e+00   2.01057e-02  -9.86700e-06\n",
      "   2  LandauMPV    2.66683e+03   8.31397e+00  -7.02095e-03   1.38623e-05\n",
      "   3  Normalisation   7.47080e+04   1.46228e+03   2.02681e+00   6.36887e-07\n",
      "   4  GaussianSigma   4.30213e+00   1.01856e-01  -4.38817e-04   2.27586e-03\n",
      "                               ERR DEF= 0.5\n"
     ]
    },
    {
     "data": {
      "image/png": "[encoded data removed]",
      "text/plain": [
       "<IPython.core.display.Image object>"
      ]
     },
     "metadata": {},
     "output_type": "display_data"
    }
   ],
   "source": [
    "# Maybe it would be less confusing to include langaus in the same directory? I had trouble with this function because the file was not in the correct directory.\n",
    "%cd /home/coure/Software/caenqdc_custom/scripts/PECollectionStudies\n",
    "from langaus import LanGausFit\n",
    "%cd - \n",
    "\n",
    "hpx.Draw()\n",
    "gPad.SetLogy();\n",
    "gStyle.SetOptFit(2)\n",
    "fit = LanGausFit()\n",
    "func = fit.fit(hpx, fitrange=(1900,8000))\n",
    "# The fitter return a ROOT TF1 (a 1D function).\n",
    "# func.Print()\n",
    "hpx.GetXaxis().SetTitle(\"Integrated ADC\");\n",
    "hpx.GetYaxis().SetTitle(\"Counts/bin\");\n",
    "\n",
    "hpx.Draw()\n",
    "func.Draw(\"same\")\n",
    "tf1 = ROOT.TF1(\"landaugausfunction\", ROOT.langaufun, 0, 8000, 4)\n",
    "tf1.SetParNames(\"LandauWidth\",\"LandauMPV\",\"Normalisation\",\"GaussianSigma\")\n",
    "tf1.SetParameters(func.GetParameter(0), func.GetParameter(1), func.GetParameter(2), func.GetParameter(3))\n",
    "tf1.Draw(\"same\")\n",
    "\n",
    "c1.Draw()\n",
    "# c1.SaveAs(\"Fitted_noCoincidences_swirlyTry2.pdf\");\n"
   ]
  },
  {
   "cell_type": "code",
   "execution_count": 15,
   "id": "5e8e440c-784d-4601-b57d-851709dc6639",
   "metadata": {},
   "outputs": [
    {
     "data": {
      "text/plain": [
       "1.8057929416144942"
      ]
     },
     "execution_count": 15,
     "metadata": {},
     "output_type": "execute_result"
    }
   ],
   "source": [
    "func.GetChisquare()/func.GetNDF()"
   ]
  },
  {
   "cell_type": "code",
   "execution_count": 40,
   "id": "a460cd49-73e4-4fda-a6df-06d7ce73a54f",
   "metadata": {},
   "outputs": [
    {
     "name": "stdout",
     "output_type": "stream",
     "text": [
      "Unknown function: expo+gaus(1)\n"
     ]
    },
    {
     "name": "stderr",
     "output_type": "stream",
     "text": [
      "/home/coure/Software/DataTakingVenv/lib/python3.8/site-packages/root_numpy/_hist.py:75: DeprecationWarning: `np.int` is a deprecated alias for the builtin `int`. To silence this warning, use `int` by itself. Doing this will not modify any behavior and is safe. When replacing `np.int`, you may wish to use e.g. `np.int64` or `np.int32` to specify the precision. If you wish to review your current use, check the release note link for additional information.\n",
      "Deprecated in NumPy 1.20; for more details and guidance: https://numpy.org/devdocs/release/1.20.0-notes.html#deprecations\n",
      "  return _librootnumpy.fill_h1(\n",
      "Warning in <TCanvas::Constructor>: Deleting canvas with same name: ctest\n",
      "Warning in <TROOT::Append>: Replacing existing TH1: Gaussian-convoluted Landau (Potential memory leak).\n"
     ]
    },
    {
     "data": {
      "image/png": "[encoded data removed]",
      "text/plain": [
       "<IPython.core.display.Image object>"
      ]
     },
     "metadata": {},
     "output_type": "display_data"
    }
   ],
   "source": [
    "from root_numpy import array2hist, hist2array, fill_hist\n",
    "ctest = TCanvas( 'ctest', 'Dynamic Filling Example', 200, 10, 700, 500 )\n",
    "hpx_test = ROOT.TH1D( 'Gaussian-convoluted Landau', 'Background, 10 min run', 200, 100, 1600)\n",
    "fill_hist(hpx_test, np.array(data['data']['low_gain']))\n",
    "hpx_test.Draw()\n",
    "gPad.SetLogy();\n",
    "gStyle.SetOptFit(2)\n",
    "hpx_test.Fit(\"expo+gaus(4)\", \"\", \"\", 110, 500)\n",
    "# The fitter return a ROOT TF1 (a 1D function).\n",
    "# func.Draw(\"same\")\n",
    "\n",
    "\n",
    "ctest.Draw()\n",
    "# c1.SaveAs(\"Fitted_noCoincidences_swirlyTry2.pdf\");\n"
   ]
  },
  {
   "cell_type": "code",
   "execution_count": 25,
   "id": "2f4663f1",
   "metadata": {},
   "outputs": [
    {
     "name": "stdout",
     "output_type": "stream",
     "text": [
      "2666.830212601258\n"
     ]
    }
   ],
   "source": [
    "MPV = func.GetParameter(1) #This corresponds to the most probable value (MPV) of the distr.\n",
    "print(MPV)"
   ]
  },
  {
   "cell_type": "code",
   "execution_count": 50,
   "id": "c3106889-97fa-4d0e-bef6-2ca7368451bd",
   "metadata": {},
   "outputs": [
    {
     "name": "stdout",
     "output_type": "stream",
     "text": [
      " FCN=133.328 FROM MIGRAD    STATUS=CONVERGED     116 CALLS         117 TOTAL\n",
      "                     EDM=2.06051e-09    STRATEGY= 1      ERROR MATRIX ACCURATE \n",
      "  EXT PARAMETER                                   STEP         FIRST   \n",
      "  NO.   NAME      VALUE            ERROR          SIZE      DERIVATIVE \n",
      "   1  Constant     5.45441e+03   8.58548e+01   1.47488e-01   2.04270e-06\n",
      "   2  Mean         3.79153e+02   9.81580e+00   7.47599e-03   3.50924e-05\n",
      "   3  Sigma        2.72286e+02   4.58934e+00   8.98096e-06   2.73842e-02\n",
      " FCN=87.4172 FROM MIGRAD    STATUS=CONVERGED     107 CALLS         108 TOTAL\n",
      "                     EDM=4.29714e-09    STRATEGY= 1      ERROR MATRIX ACCURATE \n",
      "  EXT PARAMETER                                   STEP         FIRST   \n",
      "  NO.   NAME      VALUE            ERROR          SIZE      DERIVATIVE \n",
      "   1  Constant     4.78594e+02   1.77047e+01   3.21284e-02  -7.71944e-06\n",
      "   2  Mean         1.00902e+03   2.72392e+01   1.99999e-02  -1.99008e-05\n",
      "   3  Sigma        2.95875e+02   1.30142e+01   1.85401e-05  -2.29217e-02\n",
      " FCN=254.677 FROM MIGRAD    STATUS=CALL LIMIT   1349 CALLS        1350 TOTAL\n",
      "                     EDM=0.153585    STRATEGY= 1  ERROR MATRIX UNCERTAINTY  33.6 per cent\n",
      "  EXT PARAMETER                APPROXIMATE        STEP         FIRST   \n",
      "  NO.   NAME      VALUE            ERROR          SIZE      DERIVATIVE \n",
      "   1  Constant     1.19088e+07   7.55701e+05  -2.56730e+04  -2.35144e-06\n",
      "   2  Mean        -1.41065e+03   1.74133e+01   6.91455e-01  -1.63639e-01\n",
      "   3  Sigma        4.51324e+02   3.27126e+00  -5.71148e-04  -9.99064e+01\n",
      " FCN=392.304 FROM MIGRAD    STATUS=CALL LIMIT   2327 CALLS        2328 TOTAL\n",
      "                     EDM=0.0615989    STRATEGY= 1  ERROR MATRIX UNCERTAINTY  33.9 per cent\n",
      "  EXT PARAMETER                APPROXIMATE        STEP         FIRST   \n",
      "  NO.   NAME      VALUE            ERROR          SIZE      DERIVATIVE \n",
      "   1  p0           3.88782e+03   8.91290e+01   3.39070e+00  -3.95054e-03\n",
      "   2  p1           5.10376e+02   9.16072e+00  -2.00522e-01   5.60102e-02\n",
      "   3  p2           2.08659e+02   5.63757e+00   6.99711e-02  -8.37364e-02\n",
      "   4  p3           3.63951e+02   9.21826e+00  -1.62707e-01  -8.78903e-06\n",
      "   5  p4           1.17495e+03   1.26755e+01  -6.11248e-02   1.61525e-03\n",
      "   6  p5           2.21319e+02   8.50008e+00   3.40217e-02   1.48059e-03\n",
      "   7  p6           1.11106e+08   1.70061e+07   3.51265e+06  -9.67158e-07\n",
      "   8  p7          -1.75410e+03   5.27014e+01  -5.88115e+00  -9.22162e-01\n",
      "   9  p8           4.68971e+02   1.02235e+01   5.22063e-01  -3.83704e+00\n"
     ]
    },
    {
     "name": "stderr",
     "output_type": "stream",
     "text": [
      "/home/coure/Software/DataTakingVenv/lib/python3.8/site-packages/root_numpy/_hist.py:75: DeprecationWarning: `np.int` is a deprecated alias for the builtin `int`. To silence this warning, use `int` by itself. Doing this will not modify any behavior and is safe. When replacing `np.int`, you may wish to use e.g. `np.int64` or `np.int32` to specify the precision. If you wish to review your current use, check the release note link for additional information.\n",
      "Deprecated in NumPy 1.20; for more details and guidance: https://numpy.org/devdocs/release/1.20.0-notes.html#deprecations\n",
      "  return _librootnumpy.fill_h1(\n",
      "Warning in <TCanvas::Constructor>: Deleting canvas with same name: c2\n",
      "Warning in <TROOT::Append>: Replacing existing TH1: Gaussian-convoluted Landau (Potential memory leak).\n",
      "Warning in <Fit>: Abnormal termination of minimization.\n",
      "Warning in <Fit>: Abnormal termination of minimization.\n"
     ]
    },
    {
     "data": {
      "image/png": "[encoded data removed]",
      "text/plain": [
       "<IPython.core.display.Image object>"
      ]
     },
     "metadata": {},
     "output_type": "display_data"
    }
   ],
   "source": [
    "from array import array\n",
    "\n",
    "c2 = TCanvas( 'c2', 'Dynamic Filling Example', 200, 10, 700, 500 )\n",
    "hpx2 = ROOT.TH1D( 'Gaussian-convoluted Landau', 'Background, 10 min run', 200, 0, 7500)\n",
    "#fill_hist(hpx, np.array(data['data']['low_gain'][:,1]))\n",
    "fill_hist(hpx2, np.array(data['data']['low_gain']))\n",
    "\n",
    "hpx2.Draw()\n",
    "gPad.SetLogy();\n",
    "gStyle.SetOptFit(2)\n",
    "# fit = LanGausFit()\n",
    "# func = fit.fit(hpx, fitrange=(0,4000))\n",
    "# The fitter return a ROOT TF1 (a 1D function).\n",
    "# func.Print()\n",
    "hpx2.GetXaxis().SetTitle(\"Integrated ADC\");\n",
    "hpx2.GetYaxis().SetTitle(\"Counts/bin\");\n",
    "\n",
    "hpx2.Draw()\n",
    "\n",
    "par = array( 'd', 9*[0.] )\n",
    "g1 = TF1( 'g1', 'gaus',  400,  1000 )\n",
    "g2 = TF1( 'g2', 'gaus',  1000, 1900 )\n",
    "g3 = TF1( 'g3', 'gaus', 120, 300 )\n",
    "# e1 = TF1( 'g3', 'landau', 200, 400 )\n",
    "\n",
    "total = TF1( 'total', 'gaus(0)+gaus(3)+gaus(6)', 120, 1900 )\n",
    "total.SetLineColor( 2 )\n",
    "hpx2.Fit( g1, 'R' )\n",
    "hpx2.Fit( g2, 'R+' )\n",
    "hpx2.Fit( g3, 'R+' )\n",
    "\n",
    "par1 = g1.GetParameters()\n",
    "par2 = g2.GetParameters()\n",
    "par3 = g3.GetParameters()\n",
    "\n",
    "par[0], par[1], par[2] = par1[0], par1[1], par1[2]\n",
    "par[3], par[4], par[5] = par2[0], par2[1], par2[2]\n",
    "par[6], par[7], par[8] = par3[0], par3[1], par3[2]\n",
    "\n",
    "total.SetParameters( par )\n",
    "total.SetLineColor(6);\n",
    "hpx2.Fit( total, 'R+' )\n",
    "\n",
    "# tf2 = ROOT.TF1(\"total1\", total, 130, 1750, 9)\n",
    "# tf2.SetParameters( par )\n",
    "# tf2.Draw(\"same\")\n",
    "# hpx2.Fit(\"gausn\", \"\",\"\",100,1700)\n",
    "# func.Draw(\"same\")\n",
    "# tf1 = ROOT.TF1(\"landaugausfunction\", ROOT.langaufun, 0, 8000, 4)\n",
    "# tf1.SetParNames(\"LandauWidth\",\"LandauMPV\",\"Normalisation\",\"GaussianSigma\")\n",
    "# tf1.SetParameters(func.GetParameter(0), func.GetParameter(1), func.GetParameter(2), func.GetParameter(3))\n",
    "# tf1.Draw(\"same\")\n",
    "\n",
    "c2.Draw()"
   ]
  },
  {
   "cell_type": "code",
   "execution_count": 52,
   "id": "0efb217d-0ee6-4c4a-b3dc-9c02aab6f095",
   "metadata": {},
   "outputs": [
    {
     "name": "stderr",
     "output_type": "stream",
     "text": [
      "Warning in <TCanvas::Constructor>: Deleting canvas with same name: c3\n"
     ]
    },
    {
     "data": {
      "image/png": "[encoded data removed]",
      "text/plain": [
       "<IPython.core.display.Image object>"
      ]
     },
     "metadata": {},
     "output_type": "display_data"
    }
   ],
   "source": [
    "c3 = TCanvas( 'c3', 'Dynamic Filling Example', 200, 10, 700, 500 )\n",
    "# hpx2 = ROOT.TH1D( 'Gaussian-convoluted Landau', 'Background, no coincidences', 200, 100, 2000)\n",
    "# #fill_hist(hpx, np.array(data['data']['low_gain'][:,1]))\n",
    "# fill_hist(hpx2, np.array(data['data']['low_gain']))\n",
    "hpx.Draw()\n",
    "\n",
    "gPad.SetLogy();\n",
    "# total.Draw(\"same\")\n",
    "fitResult = hpx2.GetFunction(\"total\");\n",
    "fitResult.Draw('same')\n",
    "tf1.Draw(\"same\")\n",
    "\n",
    "c3.Draw()\n",
    "# c3.SaveAs(\"BkgFitforDeadTime.pdf\")"
   ]
  },
  {
   "cell_type": "code",
   "execution_count": 53,
   "id": "a9a1052e-0cca-4ffd-9023-c7050b30820f",
   "metadata": {},
   "outputs": [
    {
     "data": {
      "text/plain": [
       "10.059066898512718"
      ]
     },
     "execution_count": 53,
     "metadata": {},
     "output_type": "execute_result"
    }
   ],
   "source": [
    "total.GetChisquare()/total.GetNDF()"
   ]
  },
  {
   "cell_type": "markdown",
   "id": "e890db18-2a09-4355-8d0f-61ef15dd754e",
   "metadata": {},
   "source": [
    "### Calculate integral of function to find number of counts"
   ]
  },
  {
   "cell_type": "markdown",
   "id": "e8ea364b-c3bc-4d55-a0fc-2241fb224e79",
   "metadata": {},
   "source": [
    "#### Check that the integral of the landau-gauss func is equal to the muon flux"
   ]
  },
  {
   "cell_type": "code",
   "execution_count": 32,
   "id": "8db3d7e9-80e4-4994-9adf-372661a36c0e",
   "metadata": {},
   "outputs": [
    {
     "name": "stdout",
     "output_type": "stream",
     "text": [
      "The muon flux is: 1.263/cm^2/min\n"
     ]
    }
   ],
   "source": [
    "binWidth = hpx.GetBinWidth(1)\n",
    "muFlux = tf1.Integral(0,7500)/(10*25*25*binWidth)\n",
    "print(\"The muon flux is: %0.3f/cm^2/min\"%muFlux)"
   ]
  },
  {
   "cell_type": "markdown",
   "id": "38979f9d-15f3-4729-a899-7e1e2ffde354",
   "metadata": {},
   "source": [
    "#### Gammma counts per second"
   ]
  },
  {
   "cell_type": "code",
   "execution_count": 33,
   "id": "569fc543-9e7f-463a-b4b7-8c1b59223d31",
   "metadata": {},
   "outputs": [],
   "source": [
    "ratePerSec = total.Integral(1900,7500)/(10*60*binWidth)"
   ]
  },
  {
   "cell_type": "markdown",
   "id": "adaaaed8-b78d-4116-8d46-90c6c5cb705e",
   "metadata": {},
   "source": [
    "#### Gammma counts per second for the whole system"
   ]
  },
  {
   "cell_type": "code",
   "execution_count": 17,
   "id": "caab9753-ad28-4e6a-8ef9-a7aaf8ac44e7",
   "metadata": {},
   "outputs": [],
   "source": [
    "nMiniModperPanel = 8\n",
    "nPanels = 170\n",
    "rate = nMiniModperPanel*nPanels*ratePerSec"
   ]
  },
  {
   "cell_type": "code",
   "execution_count": 18,
   "id": "a40d9d1f-111b-4bb3-a113-0ca3fa74884f",
   "metadata": {},
   "outputs": [
    {
     "data": {
      "text/plain": [
       "0.6424349991030764"
      ]
     },
     "execution_count": 18,
     "metadata": {},
     "output_type": "execute_result"
    }
   ],
   "source": [
    "rate*1E-3*100"
   ]
  },
  {
   "cell_type": "markdown",
   "id": "94b20463-d888-495c-bc44-a535a67e7000",
   "metadata": {},
   "source": [
    "#### Muons in that window (efficiency)"
   ]
  },
  {
   "cell_type": "code",
   "execution_count": 19,
   "id": "00ca0904-b7d7-4df1-b9d2-42d2baa24efb",
   "metadata": {},
   "outputs": [
    {
     "data": {
      "text/plain": [
       "0.9876056481375205"
      ]
     },
     "execution_count": 19,
     "metadata": {},
     "output_type": "execute_result"
    }
   ],
   "source": [
    "tf1.Integral(1900,7500)/tf1.Integral(0,7500)"
   ]
  },
  {
   "cell_type": "code",
   "execution_count": 20,
   "id": "80586f8c-9e80-4eb1-aa80-c1c94ac84636",
   "metadata": {},
   "outputs": [
    {
     "data": {
      "text/plain": [
       "6.424349991030764"
      ]
     },
     "execution_count": 20,
     "metadata": {},
     "output_type": "execute_result"
    }
   ],
   "source": [
    "rate"
   ]
  },
  {
   "cell_type": "markdown",
   "id": "4e2cbfbf-655e-4ab1-ba20-4bc971f78cb6",
   "metadata": {},
   "source": [
    "### Plot as a function of threshold"
   ]
  },
  {
   "cell_type": "code",
   "execution_count": 21,
   "id": "1a9218e3-3254-4b45-b2e4-376ec0d91c19",
   "metadata": {},
   "outputs": [],
   "source": [
    "muEff = []\n",
    "gammaRate = []\n",
    "deadTime = []\n",
    "for ADC in range(1400, 2100):\n",
    "    muEff.append(tf1.Integral(ADC,7500)/tf1.Integral(0,7500))\n",
    "    gammaRatePerSec = total.Integral(ADC,7500)/(10*60*binWidth) #run was 10 min long and then convert to seconds\n",
    "    rateGlobal = nMiniModperPanel*nPanels*gammaRatePerSec\n",
    "    gammaRate.append(rateGlobal)\n",
    "    deadT = rateGlobal*1E-3*100\n",
    "    if(deadT>100):\n",
    "        deadTime.append(100)\n",
    "    else:\n",
    "        deadTime.append(deadT) #Assume 1 ms risetime for light detectors\n",
    "    "
   ]
  },
  {
   "cell_type": "code",
   "execution_count": 22,
   "id": "f27af096-541a-43ae-81cb-6e6c8f677349",
   "metadata": {},
   "outputs": [
    {
     "data": {
      "text/plain": [
       "(array([453, 454, 455, 456, 457, 458, 459, 460, 461, 462, 463, 464, 465,\n",
       "        466, 467]),)"
      ]
     },
     "execution_count": 22,
     "metadata": {},
     "output_type": "execute_result"
    }
   ],
   "source": [
    "muEff = np.array(muEff)\n",
    "np.where( (muEff>0.99) & (muEff<0.991) )"
   ]
  },
  {
   "cell_type": "code",
   "execution_count": 23,
   "id": "06eb68c2-dc86-4969-bc75-6a5c6ab02885",
   "metadata": {},
   "outputs": [
    {
     "data": {
      "text/plain": [
       "0.9900633078600312"
      ]
     },
     "execution_count": 23,
     "metadata": {},
     "output_type": "execute_result"
    }
   ],
   "source": [
    "muEff[467]"
   ]
  },
  {
   "cell_type": "code",
   "execution_count": 34,
   "id": "a87952a5-6eb8-49b3-81c1-ba558b3bde05",
   "metadata": {},
   "outputs": [
    {
     "data": {
      "image/png": "[encoded data removed]",
      "text/plain": [
       "<Figure size 720x576 with 4 Axes>"
      ]
     },
     "metadata": {
      "needs_background": "light"
     },
     "output_type": "display_data"
    }
   ],
   "source": [
    "# fig = plt.figure(figsize=(7,8))\n",
    "# gs = fig.add_gridspec(4, hspace=0)\n",
    "# (ax1, ax2, ax3, ax4) = gs.subplots(sharex=True)\n",
    "fig, ((ax1, ax3), (ax2, ax4)) = plt.subplots(2, 2,figsize=(10,8))\n",
    "\n",
    "\n",
    "ax1.hist(data['data']['low_gain'], bins=100, range=(0,7500),\n",
    "         histtype='step', lw = 2);\n",
    "ax1.axvline(1867, lw = 2, ls = \"--\", c = \"C1\", label = \"99$\\%$ Efficiency\")\n",
    "ax1.set_ylabel('Counts')\n",
    "ax1.set_yscale('log')\n",
    "ax1.set_xlabel('Threshold [ADC channels]')\n",
    "ax1.grid()\n",
    "ax1.legend()\n",
    "\n",
    "ax2.plot(range(1400, 2100), np.array(muEff), lw = 2)\n",
    "ax2.axvline(1867, lw = 2, ls = \"--\", c = \"C1\", label = \"99$\\%$ Efficiency\")\n",
    "ax2.set_ylabel('Muon efficiency')\n",
    "ax2.set_xlabel('Threshold [ADC channels]')\n",
    "ax2.grid()\n",
    "ax2.legend()\n",
    "\n",
    "ax3.plot(range(1400, 2100), np.array(gammaRate), lw = 2)\n",
    "ax3.set_xlabel('Threshold [ADC channels]')\n",
    "ax3.set_ylabel('Global $\\gamma$-rate [Hz]')\n",
    "ax3.axvline(1867, lw = 2, ls = \"--\", c = \"C1\", )\n",
    "ax3.grid()\n",
    "ax3.set_yscale('log')\n",
    "\n",
    "ax4.plot(range(1400, 2100), np.array(deadTime), lw = 2)\n",
    "ax4.set_xlabel('Threshold [ADC channels]')\n",
    "ax4.set_ylabel('Deadtime [$\\%$]')\n",
    "ax4.axvline(1867, lw = 2, ls = \"--\", c = \"C1\", )\n",
    "ax4.grid()\n",
    "ax4.text(0.3, 0.22, 'Assuming 1 ms \\n rise-time for LDs', horizontalalignment='center', verticalalignment='center', transform=ax4.transAxes, \n",
    "        color = \"red\")\n",
    "\n",
    "ax4.set_yscale('log')\n",
    "\n",
    "plt.tight_layout()\n",
    "plt.savefig(\"multiPanel_deadtimeAndEff.pdf\")"
   ]
  },
  {
   "cell_type": "code",
   "execution_count": null,
   "id": "5473554f-05e2-4900-90c7-9b2b74cee604",
   "metadata": {},
   "outputs": [],
   "source": []
  },
  {
   "cell_type": "code",
   "execution_count": null,
   "id": "1f85c478-2eb3-47cb-9d43-2e6e2a61e2a8",
   "metadata": {},
   "outputs": [],
   "source": []
  }
 ],
 "metadata": {
  "kernelspec": {
   "display_name": "Python 3 (ipykernel)",
   "language": "python",
   "name": "python3"
  },
  "language_info": {
   "codemirror_mode": {
    "name": "ipython",
    "version": 3
   },
   "file_extension": ".py",
   "mimetype": "text/x-python",
   "name": "python",
   "nbconvert_exporter": "python",
   "pygments_lexer": "ipython3",
   "version": "3.8.10"
  }
 },
 "nbformat": 4,
 "nbformat_minor": 5
}
