{
 "cells": [
  {
   "cell_type": "markdown",
   "id": "7ec11948",
   "metadata": {
    "tags": []
   },
   "source": [
    "# Calibration, Calculating ADC / MeV Based on Muon Peak (vz1)"
   ]
  },
  {
   "cell_type": "markdown",
   "id": "6689b104",
   "metadata": {},
   "source": [
    "#### Din-Ammar Tolj, Emily Pottebaum\n",
    "Heeger-Maruyama Group, Summer 2023\n",
    "\n",
    "To use, change sourceFolder to the data folder that you want to calibrate and run all the cells. This outputs a ADC/MeV ratio based on the Muon peak."
   ]
  },
  {
   "cell_type": "markdown",
   "id": "77c8a32e",
   "metadata": {},
   "source": [
    "### Import needed libraries"
   ]
  },
  {
   "cell_type": "code",
   "execution_count": 2,
   "id": "f4699e1e",
   "metadata": {},
   "outputs": [
    {
     "name": "stdout",
     "output_type": "stream",
     "text": [
      "Welcome to JupyROOT 6.24/02\n"
     ]
    },
    {
     "name": "stderr",
     "output_type": "stream",
     "text": [
      "/tmp/ipykernel_4367/892063941.py:29: MatplotlibDeprecationWarning: Support for setting the 'text.latex.preamble' or 'pgf.preamble' rcParam to a list of strings is deprecated since 3.3 and will be removed two minor releases later; set it to a single string instead.\n",
      "  mpl.rcParams['text.latex.preamble'] = [r'\\usepackage{amsmath}'] #for \\text command\n"
     ]
    },
    {
     "name": "stdout",
     "output_type": "stream",
     "text": [
      "/vast/palmer/home.grace/dt592/Geant4Work/gamma_sim/gamma_sim-build\n",
      "/vast/palmer/home.grace/dt592/Geant4Work\n"
     ]
    }
   ],
   "source": [
    "import ROOT\n",
    "\n",
    "import sys\n",
    "import math\n",
    "\n",
    "import numpy as np\n",
    "from ROOT import TH1D,TF1, gRandom, gPad, gStyle, TCanvas\n",
    "import matplotlib as mpl\n",
    "import matplotlib.pyplot as plt\n",
    "from ROOT import TChain, TSelector, TTree\n",
    "import os\n",
    "import matplotlib.colors as mcolors\n",
    "import scipy\n",
    "from matplotlib.colors import LogNorm\n",
    "import pandas as pd\n",
    "import seaborn as sns\n",
    "%matplotlib inline\n",
    "import matplotlib.colors as colors\n",
    "from scipy.optimize import curve_fit\n",
    "import scipy.signal\n",
    "from lmfit.models import GaussianModel, ConstantModel\n",
    "from datetime import datetime\n",
    "from glob import glob\n",
    "\n",
    "mpl.rcParams['text.usetex'] = True\n",
    "mpl.rcParams['mathtext.rm'] = 'Times New Roman'\n",
    "mpl.rcParams['mathtext.it'] = 'Times New Roman:italic'\n",
    "mpl.rcParams['mathtext.bf'] = 'Times New Roman:bold'\n",
    "mpl.rcParams['text.latex.preamble'] = [r'\\usepackage{amsmath}'] #for \\text command\n",
    "\n",
    "mpl.rc('font', family='serif', size=14)\n",
    "mpl.rcParams['xtick.labelsize'] = 20\n",
    "mpl.rcParams['ytick.labelsize'] = 20\n",
    "mpl.rcParams['xtick.major.size'] = 8\n",
    "mpl.rcParams['ytick.major.size'] = 8\n",
    "\n",
    "mpl.rcParams['axes.titlesize'] = 18\n",
    "mpl.rcParams['axes.labelsize'] = 22\n",
    "mpl.rcParams['axes.linewidth'] = 1.2 # set the value globally\n",
    "\n",
    "# mpl.rc('font', size=16)\n",
    "mpl.rc('axes', titlesize=22)\n",
    "\n",
    "current_palette = sns.color_palette('colorblind', 10)\n",
    "import warnings\n",
    "warnings.filterwarnings(\"ignore\")\n",
    "\n",
    "# Import parser that Tom wrote. This is containted in the file named dt5202.py in this folder.\n",
    "%cd libs/\n",
    "from dt5202 import dt5202_crunch\n",
    "from dt5202oldDAQ import dt5202_crunch as dt5202_crunch_oldDAQ\n",
    "ped = 50 #pedestal correction\n",
    "\n",
    "# Import Langaus fit curve for PyROOT.\n",
    "from langaus import LanGausFit\n",
    "%cd -\n",
    "from root_numpy import array2hist, hist2array, fill_hist"
   ]
  },
  {
   "cell_type": "markdown",
   "id": "7795ec9d",
   "metadata": {},
   "source": [
    "### Load and read lab data from directory"
   ]
  },
  {
   "cell_type": "code",
   "execution_count": 3,
   "id": "d489b8cf",
   "metadata": {
    "scrolled": true
   },
   "outputs": [
    {
     "name": "stdout",
     "output_type": "stream",
     "text": [
      "[(259, [3, 0, 3], 1, 0, 288, 0.5, 1674156932637)]\n",
      "((33, 0, 1.67415693e+09, 0, 1), (0, 3, 7938, 8051))\n",
      "[(259, [3, 0, 3], 1, 0, 288, 0.5, 1674157533007)]\n",
      "((33, 0, 1.67415753e+09, 0, 1), (0, 3, 1110, 8051))\n"
     ]
    }
   ],
   "source": [
    "# sourceFolder = \"/home/dt592/data/CsSwirlyDin1_20230710/\"\n",
    "sourceFolder = \"/home/dt592/data/board1771_01192023_retestingSwirlyPanel/\"\n",
    "# sourceFolder = \"/home/dt592/data/Co-60-SwirlyDin1-2min-20230717/\"\n",
    "\n",
    "#folder_name = os.getcwd() # could use this if analysis code is in the same directory as data\n",
    "#loading all files in this directory0\n",
    "onlyfiles = [f for f in os.listdir(sourceFolder) if '.dat' in f]\n",
    "# print(onlyfiles)\n",
    "data_list = []\n",
    "for file in onlyfiles:\n",
    "    data_list.append(dt5202_crunch(str(sourceFolder)+str(file), num_ev=100000000, num_ch=1))\n",
    "\n",
    "data = data_list[0]\n",
    "for i in range(1, len(data_list)):\n",
    "    data = np.append(data, data_list[i])\n",
    "\n",
    "#f = sourceFolder+'Run0_list.dat'\n",
    "#data = dt5202_crunch(f, num_ev=10000000, num_ch=2)"
   ]
  },
  {
   "cell_type": "code",
   "execution_count": 4,
   "id": "223f09a1-d5ba-4306-b7e1-e8f3799eae0c",
   "metadata": {
    "tags": []
   },
   "outputs": [
    {
     "data": {
      "image/png": "[encoded data removed]",
      "text/plain": [
       "<Figure size 648x432 with 1 Axes>"
      ]
     },
     "metadata": {
      "needs_background": "light"
     },
     "output_type": "display_data"
    }
   ],
   "source": [
    "plt.figure(figsize=(9,6))\n",
    "\n",
    "plt.hist(data['data']['low_gain'], bins=500, range=(0,8000),\n",
    "        histtype='step', label = \"source\", lw = 2, density=True);\n",
    "plt.yscale('log')\n",
    "\n",
    "plt.xlabel('ADC Counts')\n",
    "plt.ylabel('Number of Events (Counts)')\n",
    "plt.title('Histogram of ADC Counts: LG')\n",
    "plt.legend()\n",
    "plt.grid(alpha = 0.5)\n",
    "plt.tight_layout()\n",
    "# Can work on naming scheme\n",
    "# plt.savefig(figure_folder + '/' + 'ADCHist_HighGainBigPanel.png')"
   ]
  },
  {
   "cell_type": "markdown",
   "id": "11d0e76e",
   "metadata": {},
   "source": [
    "### Calibrate imported data by Muon Peak, calculate ADC/MeV"
   ]
  },
  {
   "cell_type": "code",
   "execution_count": 5,
   "id": "ebd5f85e",
   "metadata": {},
   "outputs": [
    {
     "name": "stderr",
     "output_type": "stream",
     "text": [
      "/gpfs/gibbs/project/maruyama/dt592/conda_envs/ROOT6/lib/python3.8/site-packages/root_numpy/_hist.py:75: DeprecationWarning: `np.int` is a deprecated alias for the builtin `int`. To silence this warning, use `int` by itself. Doing this will not modify any behavior and is safe. When replacing `np.int`, you may wish to use e.g. `np.int64` or `np.int32` to specify the precision. If you wish to review your current use, check the release note link for additional information.\n",
      "Deprecated in NumPy 1.20; for more details and guidance: https://numpy.org/devdocs/release/1.20.0-notes.html#deprecations\n",
      "  return _librootnumpy.fill_h1(\n"
     ]
    }
   ],
   "source": [
    "c1 = ROOT.TCanvas('c1','')\n",
    "hpx = ROOT.TH1D('Landau-Gauss Fit','pls',500,0,9000)\n",
    "fill_hist(hpx, np.array(data['data']['low_gain']))"
   ]
  },
  {
   "cell_type": "code",
   "execution_count": 7,
   "id": "453b0236",
   "metadata": {},
   "outputs": [
    {
     "name": "stdout",
     "output_type": "stream",
     "text": [
      " FCN=628.281 FROM MIGRAD    STATUS=CONVERGED     495 CALLS         496 TOTAL\n",
      "                     EDM=6.73302e-07    STRATEGY= 1  ERROR MATRIX UNCERTAINTY   1.0 per cent\n",
      "  EXT PARAMETER                                   STEP         FIRST   \n",
      "  NO.   NAME      VALUE            ERROR          SIZE      DERIVATIVE \n",
      "   1  LandauWidth   3.56111e+02   5.39112e+00  -2.22603e-03   2.33539e-05\n",
      "   2  LandauMPV    2.69198e+03   8.43722e+00   1.07155e-01   1.11698e-04\n",
      "   3  Normalisation   5.95077e+04   9.14898e+02  -6.27687e-02  -7.87909e-07\n",
      "   4  GaussianSigma   2.60985e+00   4.97565e-02   6.14136e-04  -1.95011e-02\n",
      "                               ERR DEF= 0.5\n"
     ]
    },
    {
     "data": {
      "image/png": "[encoded data removed]",
      "text/plain": [
       "<IPython.core.display.Image object>"
      ]
     },
     "metadata": {},
     "output_type": "display_data"
    }
   ],
   "source": [
    "hpx.Draw()\n",
    "ROOT.gPad.SetLogy()\n",
    "ROOT.gStyle.SetOptFit(2)\n",
    "fit = LanGausFit()\n",
    "func = fit.fit(hpx,fitrange=(2000,8000))\n",
    "hpx.Draw()\n",
    "func.Draw(\"same\")\n",
    "c1.Draw()"
   ]
  },
  {
   "cell_type": "code",
   "execution_count": 8,
   "id": "2ca45d33",
   "metadata": {},
   "outputs": [
    {
     "name": "stdout",
     "output_type": "stream",
     "text": [
      "MPV: 2691.9774006184944\n",
      "ADC/MeV: 538.3954801236989\n"
     ]
    }
   ],
   "source": [
    "MPV = func.GetParameter(1) # this corresponds to the most probable value of the distribution\n",
    "print(\"MPV:\", MPV)\n",
    "ADCperMEV = MPV/5.0\n",
    "print(\"ADC/MeV:\", ADCperMEV)"
   ]
  },
  {
   "cell_type": "code",
   "execution_count": 13,
   "id": "c956f7dd",
   "metadata": {},
   "outputs": [
    {
     "data": {
      "text/plain": [
       "543.8338183067665"
      ]
     },
     "execution_count": 13,
     "metadata": {},
     "output_type": "execute_result"
    }
   ],
   "source": [
    "2691.9774006184944 / 4.95"
   ]
  }
 ],
 "metadata": {
  "kernelspec": {
   "display_name": "Python 3 (ipykernel)",
   "language": "python",
   "name": "python3"
  },
  "language_info": {
   "codemirror_mode": {
    "name": "ipython",
    "version": 3
   },
   "file_extension": ".py",
   "mimetype": "text/x-python",
   "name": "python",
   "nbconvert_exporter": "python",
   "pygments_lexer": "ipython3",
   "version": "3.8.10"
  }
 },
 "nbformat": 4,
 "nbformat_minor": 5
}
