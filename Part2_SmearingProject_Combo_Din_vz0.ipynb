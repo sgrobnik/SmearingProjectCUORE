{
 "cells": [
  {
   "cell_type": "markdown",
   "id": "96f7c723",
   "metadata": {},
   "source": [
    "# Adding Muon Flux to Normalized Gamma Background (vz0)\n",
    "\n",
    "#### Din-Ammar Tolj - Y25\n",
    "Maruyama Group, Summer 2023\n",
    "\n",
    "This notebook is a continuation of \"SmearingProject_MuonsAndGammaSim_Din_vz5\" and \"Gamma_Normalization_Din_vz1\" that adds the smeared muon flux in the former to the normalized gamma background in the latter.  "
   ]
  },
  {
   "cell_type": "markdown",
   "id": "4da8b2e6",
   "metadata": {},
   "source": [
    "### Import needed libraries "
   ]
  },
  {
   "cell_type": "code",
   "execution_count": 1,
   "id": "f68ff576",
   "metadata": {},
   "outputs": [
    {
     "name": "stdout",
     "output_type": "stream",
     "text": [
      "Welcome to JupyROOT 6.24/02\n",
      "/vast/palmer/home.grace/dt592/Geant4Work/gamma_sim/gamma_sim-build\n",
      "/vast/palmer/home.grace/dt592/Geant4Work\n"
     ]
    }
   ],
   "source": [
    "import numpy as np\n",
    "\n",
    "import ROOT\n",
    "from ROOT import *\n",
    "from root_numpy import array2hist, hist2array, fill_hist\n",
    "\n",
    "import sys\n",
    "import math\n",
    "\n",
    "import os\n",
    "import scipy\n",
    "import pandas as pd\n",
    "import seaborn as sns\n",
    "\n",
    "import ctypes\n",
    "from ctypes import *\n",
    "\n",
    "from datetime import datetime\n",
    "from glob import glob\n",
    "\n",
    "%cd /home/dt592/Geant4Work/gamma_sim/gamma_sim-build\n",
    "from dt5202 import dt5202_crunch # Import parser that Tom wrote. This is containted in the file named dt5202.py in this folder.\n",
    "from dt5202oldDAQ import dt5202_crunch as dt5202_crunch_oldDAQ # Old ver\n",
    "\n",
    "from langaus import LanGausFit \n",
    "%cd -\n",
    "\n",
    "import gamma_normalize\n",
    "import warnings\n",
    "warnings.filterwarnings(\"ignore\")"
   ]
  },
  {
   "cell_type": "markdown",
   "id": "7027f9e3",
   "metadata": {},
   "source": [
    "### Run the two inherited Jupyter Notebooks"
   ]
  },
  {
   "cell_type": "code",
   "execution_count": 2,
   "id": "b73c360a",
   "metadata": {},
   "outputs": [
    {
     "name": "stderr",
     "output_type": "stream",
     "text": [
      "Warning in <TGraphAsymmErrors::Divide>: Number of graph points is different than histogram bins - 5 points have been skipped\n",
      "Info in <TH1F::Chi2TestX>: There is a bin in h1 with less than 10 effective events.\n",
      "\n",
      "Info in <TH1F::Chi2TestX>: There is a bin in h2 with less than 10 effective events.\n",
      "\n"
     ]
    }
   ],
   "source": [
    "%%capture\n",
    "\n",
    "%run /home/dt592/Geant4Work/SemaringProject_MuonsAndGammaSim_Din_vz5.ipynb\n",
    "%run /home/dt592/Geant4Work/Gamma_Normalization_Din_vz1.ipynb"
   ]
  },
  {
   "cell_type": "markdown",
   "id": "cc9cbea8",
   "metadata": {},
   "source": [
    "### Add smeared muons flux to lin. smeared normalized gammas"
   ]
  },
  {
   "cell_type": "code",
   "execution_count": 3,
   "id": "241fd42d",
   "metadata": {},
   "outputs": [],
   "source": [
    "fill_hist(tots, bg_smeared_lin_mu_pe/pe_mev) # ONLY RUN THIS ONCE"
   ]
  },
  {
   "cell_type": "code",
   "execution_count": 4,
   "id": "047ae6ec",
   "metadata": {},
   "outputs": [
    {
     "name": "stdout",
     "output_type": "stream",
     "text": [
      " #chi^{2}/ndf = 12.50570368 \n"
     ]
    },
    {
     "name": "stderr",
     "output_type": "stream",
     "text": [
      "Warning in <TCanvas::Constructor>: Deleting canvas with same name: c1\n",
      "Warning in <TGraphAsymmErrors::Divide>: Number of graph points is different than histogram bins - 5 points have been skipped\n",
      "Info in <TH1F::Chi2TestX>: There is a bin in h1 with less than 10 effective events.\n",
      "\n",
      "Info in <TH1F::Chi2TestX>: There is a bin in h2 with less than 10 effective events.\n",
      "\n"
     ]
    },
    {
     "data": {
      "image/png": "[encoded data removed]",
      "text/plain": [
       "<IPython.core.display.Image object>"
      ]
     },
     "metadata": {},
     "output_type": "display_data"
    }
   ],
   "source": [
    "c1 = TCanvas('c1','',800,450)\n",
    "\n",
    "# gStyle.SetPalette(kRust)\n",
    "gPad.SetLogy()\n",
    "gStyle.SetStatFontSize(.08)\n",
    "gStyle.SetTitleFontSize(0.085)\n",
    "gStyle.SetStatW(0.4)\n",
    "gStyle.SetPalette(kBird)\n",
    "\n",
    "h_dat.Draw(\"plc pmc hist\")\n",
    "tots.SetTitle(\"Linearly Modeled Smearing Normalized with TFractionFitter, Full Spectrum\")\n",
    "\n",
    "# tot.SetMarkerColor(kGray+1)\n",
    "# tot.SetLineColor(kGray+1)\n",
    "tots.SetLineWidth(4)\n",
    "tots.SetLineColor(kTeal - 1)\n",
    "tots.Draw(\"hist same\")\n",
    "tots.SetAxisRange(0.01, 15, \"X\")\n",
    "h_dat.SetAxisRange(0.01, 15, \"X\")\n",
    "tots.SetLineColor(kPink+2)\n",
    "h_dat.SetLineWidth(2)\n",
    "\n",
    "c1.Clear()\n",
    "\n",
    "rp = TRatioPlot(tots,h_dat)\n",
    "rp.Draw()\n",
    "\n",
    "rp.GetLowerRefYaxis().SetTitle(\"Ratio\")\n",
    "rp.GetUpperRefYaxis().SetTitle(\"Counts/bin\")\n",
    "rp.GetUpperRefYaxis().SetTitleOffset(0.7)\n",
    "rp.GetLowerRefYaxis().SetTitleOffset(0.7)\n",
    "rp.GetLowerRefYaxis().SetRangeUser(-1,3)\n",
    "\n",
    "rp.GetLowerRefYaxis().SetLabelSize(.04)\n",
    "rp.GetLowerRefYaxis().SetTitleSize(.05)\n",
    "rp.GetUpperRefYaxis().SetLabelSize(.04)\n",
    "rp.GetUpperRefYaxis().SetTitleSize(.05)\n",
    "rp.GetLowerRefXaxis().SetLabelSize(.05)\n",
    "rp.GetLowerRefXaxis().SetTitleSize(.045)\n",
    "\n",
    "# rp1.GetUpperPad().SetGrid()\n",
    "\n",
    "chi2 = \" #chi^{2}/ndf = \" + str(round(tots.Chi2Test(h_dat, \"CHI2/NDF\"), 8)) + \" \"\n",
    "\n",
    "legend = TLegend(0.57,0.73,0.88,0.89)\n",
    "legend.AddEntry(h_dat,\"Lab data (swirly panel)\",\"le\")\n",
    "legend.AddEntry(tots,\"Smeared sim. (lin.)\",\"l\")\n",
    "legend.Draw()\n",
    "\n",
    "# title = TPaveText(0.14, 0.395, 0.47, 0.50, \"NDC\")\n",
    "# title.AddText(chi2_2)\n",
    "# title.SetMargin(0.05)\n",
    "# title.SetBorderSize(1)\n",
    "# title.SetFillColor(0)\n",
    "# title.Draw()\n",
    "\n",
    "print(chi2)\n",
    "\n",
    "c1.Draw()\n",
    "\n",
    "# c1.SaveAs(\"NormV1_LinSmearNORMALIZED_v3.png\")"
   ]
  },
  {
   "cell_type": "markdown",
   "id": "5ba689ed",
   "metadata": {},
   "source": [
    "#### Comment: okay, it works. I'm going to move this to the original notebook now -- this is abandoned."
   ]
  },
  {
   "cell_type": "code",
   "execution_count": null,
   "id": "eaba7138",
   "metadata": {},
   "outputs": [],
   "source": []
  },
  {
   "cell_type": "code",
   "execution_count": null,
   "id": "40378bef",
   "metadata": {},
   "outputs": [],
   "source": []
  },
  {
   "cell_type": "code",
   "execution_count": null,
   "id": "19eaabb2",
   "metadata": {},
   "outputs": [],
   "source": []
  },
  {
   "cell_type": "code",
   "execution_count": 10,
   "id": "9947bb83",
   "metadata": {},
   "outputs": [],
   "source": [
    "f1 = np.random.normal(loc=np.array(energyDeposited1460) * pe_mev, scale = 0.01 * lin_sigma_pe * np.array(energyDeposited1460) * pe_mev)/pe_mev\n",
    "f2 = np.random.normal(loc=np.array(energyDeposited2614) * pe_mev, scale = 0.01 * lin_sigma_pe * np.array(energyDeposited2614) * pe_mev)/pe_mev\n",
    "f3 = np.random.normal(loc=np.array(energyDeposited1120) * pe_mev, scale = 0.01 * lin_sigma_pe * np.array(energyDeposited1120) * pe_mev)/pe_mev\n",
    "f4 = np.random.normal(loc=np.array(energyDeposited1238) * pe_mev, scale = 0.01 * lin_sigma_pe * np.array(energyDeposited1238) * pe_mev)/pe_mev\n",
    "f5 = np.random.normal(loc=np.array(energyDeposited1764) * pe_mev, scale = 0.01 * lin_sigma_pe * np.array(energyDeposited1764) * pe_mev)/pe_mev\n",
    "f6 = np.random.normal(loc=np.array(energyDeposited968) * pe_mev, scale = 0.01 * lin_sigma_pe * np.array(energyDeposited968) * pe_mev)/pe_mev\n",
    "f7 = np.random.normal(loc=np.array(energyDeposited934) * pe_mev, scale = 0.01 * lin_sigma_pe * np.array(energyDeposited934) * pe_mev)/pe_mev\n",
    "f8 = np.random.normal(loc=np.array(energyDeposited911) * pe_mev, scale = 0.01 * lin_sigma_pe * np.array(energyDeposited911) * pe_mev)/pe_mev\n",
    "f9 = np.random.normal(loc=np.array(energyDeposited609) * pe_mev, scale = 0.01 * lin_sigma_pe * np.array(energyDeposited609) * pe_mev)/pe_mev\n",
    "f10 = np.random.normal(loc=np.array(energyDeposited583) * pe_mev, scale = 0.01 * lin_sigma_pe * np.array(energyDeposited583) * pe_mev)/pe_mev"
   ]
  },
  {
   "cell_type": "code",
   "execution_count": 11,
   "id": "7ca369c4",
   "metadata": {},
   "outputs": [],
   "source": [
    "isittrue = np.concatenate((0.366140 * f1, 0.107000 * f2, 8.28749e-02 * f3, 2.85593e-06 * f4, 4.37133e-02 * f5, 2.01552e-07 * f6, 3.03455e-07 * f7, 1.67261e-01 * f8, 1.71318e-07 * f9, 2.32949e-01 * f10))"
   ]
  },
  {
   "cell_type": "code",
   "execution_count": 14,
   "id": "c1cc095f",
   "metadata": {},
   "outputs": [
    {
     "name": "stderr",
     "output_type": "stream",
     "text": [
      "Warning in <TFile::Append>: Replacing existing TH1: bestie (Potential memory leak).\n",
      "Warning in <TCanvas::Constructor>: Deleting canvas with same name: c1\n"
     ]
    },
    {
     "data": {
      "image/png": "[encoded data removed]",
      "text/plain": [
       "<IPython.core.display.Image object>"
      ]
     },
     "metadata": {},
     "output_type": "display_data"
    }
   ],
   "source": [
    "bestie = TH1D('bestie','',300,0.01,3)\n",
    "fill_hist(bestie,isittrue)\n",
    "\n",
    "c1 = TCanvas('c1','',1200,400)\n",
    "c1.cd()\n",
    "\n",
    "gStyle.SetPalette(kCandy)\n",
    "\n",
    "gPad.SetLogy()\n",
    "gStyle.SetStatFontSize(.08)\n",
    "gStyle.SetTitleFontSize(0.085)\n",
    "gStyle.SetStatW(0.4)\n",
    "\n",
    "bestie.Draw(\"plc pmc hist\")\n",
    "\n",
    "c1.Draw()"
   ]
  },
  {
   "cell_type": "code",
   "execution_count": 20,
   "id": "e2276dc1",
   "metadata": {},
   "outputs": [
    {
     "data": {
      "text/plain": [
       "-1"
      ]
     },
     "execution_count": 20,
     "metadata": {},
     "output_type": "execute_result"
    },
    {
     "name": "stderr",
     "output_type": "stream",
     "text": [
      "Warning in <TFile::Append>: Replacing existing TH1: test (Potential memory leak).\n",
      "Warning in <TFile::Append>: Replacing existing TH1: h_fsp (Potential memory leak).\n",
      "Error in <Merge>: Cannot merge histograms - limits are inconsistent:\n",
      " first: h_fsp (134, 0.500000, 15.000000), second: test (134, 2.700000, 15.000000)\n"
     ]
    }
   ],
   "source": [
    "test = TH1D('test','',134,2.7,15)\n",
    "fill_hist(test,bg_smeared_lin_mu_pe/pe_mev)\n",
    "\n",
    "h_fsp = TH1F('h_fsp','',134,0.5,15)\n",
    "# tots.GetXaxis().SetLimits(0.5,15)\n",
    "# smeared_lin_mu_th.GetXaxis().SetLimits(0.5,15)\n",
    "\n",
    "# tots.Add(smeared_lin_mu_th)\n",
    "\n",
    "l = TList()\n",
    "l.Add(test)\n",
    "l.Add(tots)\n",
    "\n",
    "h_fsp.Reset()\n",
    "h_fsp.Merge(l)\n",
    "\n",
    "# tots.Add(test)"
   ]
  },
  {
   "cell_type": "code",
   "execution_count": 15,
   "id": "abc7d2e4",
   "metadata": {},
   "outputs": [],
   "source": [
    "fill_hist(tots, bg_smeared_lin_mu_pe/pe_mev)"
   ]
  },
  {
   "cell_type": "code",
   "execution_count": 12,
   "id": "c08d30eb",
   "metadata": {},
   "outputs": [
    {
     "name": "stderr",
     "output_type": "stream",
     "text": [
      "Warning in <TCanvas::Constructor>: Deleting canvas with same name: c1\n"
     ]
    },
    {
     "data": {
      "image/png": "[encoded data removed]",
      "text/plain": [
       "<IPython.core.display.Image object>"
      ]
     },
     "metadata": {},
     "output_type": "display_data"
    }
   ],
   "source": [
    "c1 = TCanvas('c1','',1200,400)\n",
    "c1.cd()\n",
    "\n",
    "gStyle.SetPalette(kCandy)\n",
    "\n",
    "gPad.SetLogy()\n",
    "gStyle.SetStatFontSize(.08)\n",
    "gStyle.SetTitleFontSize(0.085)\n",
    "gStyle.SetStatW(0.4)\n",
    "\n",
    "# tots.Draw(\"plc pmc hist\")\n",
    "test.Draw(\"plc pmc hist\")\n",
    "# smeared_lin_mu_th.GetXaxis().SetRangeUser(0.01,15)\n",
    "# tots.SetAxisRange(0.01,15,\"X\")\n",
    "\n",
    "# h_dat.Draw(\"plc pmc hist\")\n",
    "# h_dat.GetXaxis().SetLimits(0.5,15)\n",
    "\n",
    "# h_fsp.SetLineWidth(4)\n",
    "# h_fsp.Draw(\"hist same\")\n",
    "# h_dat.SetLineWidth(2)\n",
    "\n",
    "# c1.Clear()\n",
    "\n",
    "# rp = TRatioPlot(h_fsp,h_dat)\n",
    "# rp.Draw()\n",
    "\n",
    "# rp.GetLowerRefYaxis().SetTitle(\"Ratio\")\n",
    "# rp.GetUpperRefYaxis().SetTitle(\"Counts/bin\")\n",
    "# rp.GetUpperRefYaxis().SetTitleOffset(0.7)\n",
    "# rp.GetLowerRefYaxis().SetTitleOffset(0.7)\n",
    "# rp.GetLowerRefYaxis().SetRangeUser(-1,3)\n",
    "\n",
    "# rp.GetLowerRefYaxis().SetLabelSize(.04)\n",
    "# rp.GetLowerRefYaxis().SetTitleSize(.05)\n",
    "# rp.GetUpperRefYaxis().SetLabelSize(.04)\n",
    "# rp.GetUpperRefYaxis().SetTitleSize(.05)\n",
    "# rp.GetLowerRefXaxis().SetLabelSize(.05)\n",
    "# rp.GetLowerRefXaxis().SetTitleSize(.045)\n",
    "\n",
    "# chi2 = \" #chi^{2}/ndf = \" + str(round(h_fsp.Chi2Test(h_dat, \"CHI2/NDF\"), 8)) + \" \"\n",
    "\n",
    "# legend = TLegend(0.57,0.73,0.88,0.89)\n",
    "# legend.AddEntry(h_dat,\"Lab data (swirly panel)\",\"le\")\n",
    "# legend.AddEntry(tots,\"Smeared sim. (lin.)\",\"l\")\n",
    "# legend.Draw()\n",
    "\n",
    "# title = TPaveText(0.14, 0.395, 0.47, 0.50, \"NDC\")\n",
    "# title.AddText(chi2)\n",
    "# title.SetMargin(0.05)\n",
    "# title.SetBorderSize(1)\n",
    "# title.SetFillColor(0)\n",
    "# title.Draw()\n",
    "\n",
    "c1.Draw()"
   ]
  },
  {
   "cell_type": "code",
   "execution_count": null,
   "id": "4badcc07",
   "metadata": {},
   "outputs": [],
   "source": []
  }
 ],
 "metadata": {
  "kernelspec": {
   "display_name": "Python 3 (ipykernel)",
   "language": "python",
   "name": "python3"
  },
  "language_info": {
   "codemirror_mode": {
    "name": "ipython",
    "version": 3
   },
   "file_extension": ".py",
   "mimetype": "text/x-python",
   "name": "python",
   "nbconvert_exporter": "python",
   "pygments_lexer": "ipython3",
   "version": "3.8.10"
  }
 },
 "nbformat": 4,
 "nbformat_minor": 5
}
