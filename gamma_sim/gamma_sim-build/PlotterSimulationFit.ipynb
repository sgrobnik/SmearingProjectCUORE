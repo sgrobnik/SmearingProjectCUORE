{
 "cells": [
  {
   "cell_type": "code",
   "execution_count": 176,
   "id": "fbb34dd4-2dee-4fa9-88ca-bc5c392615fb",
   "metadata": {},
   "outputs": [],
   "source": [
    "import numpy as np\n",
    "import matplotlib.pyplot as plt\n",
    "import uproot\n",
    "from scipy.stats import moyal\n",
    "\n",
    "import ROOT\n",
    "\n",
    "import sys\n",
    "import math\n",
    "from ROOT import TH1D,TF1, gRandom, gPad, gStyle, TCanvas\n",
    "import matplotlib as mpl\n",
    "from ROOT import TChain, TSelector, TTree\n",
    "import os\n",
    "import matplotlib.colors as mcolors\n",
    "import scipy\n",
    "from matplotlib.colors import LogNorm\n",
    "import pandas as pd\n",
    "import seaborn as sns\n",
    "%matplotlib inline\n",
    "# sys.path.insert(1, \"/users/PAS0654/osu8354/ARA_cvmfs/source/AraRoot/analysis/ARA_analysis/SourceSearch\")\n",
    "# import deDisperse_util as util\n",
    "import matplotlib.colors as colors"
   ]
  },
  {
   "cell_type": "markdown",
   "id": "e13757f8-95f5-4620-a903-f9865614ea25",
   "metadata": {},
   "source": [
    "# Define folder location and open ROOT file"
   ]
  },
  {
   "cell_type": "code",
   "execution_count": 177,
   "id": "0034d03f-9fd6-462a-9a1e-da3335505c22",
   "metadata": {},
   "outputs": [],
   "source": [
    "srcFolder = \"/data/Swirl_Mach2/20211004_1605/\"\n",
    "f = ROOT.TFile.Open(srcFolder+\"DataInfo.root\",\"READ\")"
   ]
  },
  {
   "cell_type": "markdown",
   "id": "1da9cdbb-8884-491f-8adb-9b761223035f",
   "metadata": {},
   "source": [
    "# Define and Load TTree"
   ]
  },
  {
   "cell_type": "code",
   "execution_count": 178,
   "id": "05a0696d-74e8-4adf-a5d0-7d883070ec9e",
   "metadata": {},
   "outputs": [
    {
     "name": "stdout",
     "output_type": "stream",
     "text": [
      "TFile**\t\t/data/Swirl_Mach2/20211004_1605/DataInfo.root\t\n",
      " TFile*\t\t/data/Swirl_Mach2/20211004_1605/DataInfo.root\t\n",
      "  KEY: TTree\tWaveforms;1\tWaveformInfo\n"
     ]
    }
   ],
   "source": [
    "f.ls()\n",
    "tree = f.Get(\"Waveforms\")\n",
    "# hist = f.Get(\"hADCIntegral\")"
   ]
  },
  {
   "cell_type": "markdown",
   "id": "1ee83a82-141a-4f7e-9854-79591f5ba86f",
   "metadata": {},
   "source": [
    "# Calculate integral with optimal window"
   ]
  },
  {
   "cell_type": "code",
   "execution_count": 179,
   "id": "d369b976-0643-4769-a445-39cf334c9c5f",
   "metadata": {},
   "outputs": [],
   "source": [
    "integral = []\n",
    "# nEntries = tree.GetEntries()\n",
    "nEntries = 1000000 # Use only first 100000 entries, since it will take a long time to run if we use all entries\n",
    "for i in range(0,nEntries):\n",
    "    wf = []\n",
    "    \n",
    "    tree.GetEntry(i)\n",
    "    if(tree.Channel!=4):\n",
    "        continue\n",
    "    for sample in tree.Waveform:\n",
    "        wf.append(sample)\n",
    "    bl = np.average(wf[0:40])\n",
    "    pe_mev = 30\n",
    "    pe_integral = (np.sum(np.array(wf[45:60])-bl))/pe_mev\n",
    "    integral.append(pe_integral)"
   ]
  },
  {
   "cell_type": "markdown",
   "id": "ab19f204-1dd3-49de-bab1-16c855ee5f79",
   "metadata": {},
   "source": [
    "# Plot spectrum"
   ]
  },
  {
   "cell_type": "code",
   "execution_count": 183,
   "id": "8edb484b-d0ee-4a7b-a0e8-8f758c65ad81",
   "metadata": {},
   "outputs": [
    {
     "data": {
      "text/plain": [
       "Text(0.5, 1.0, 'Background spectrum')"
      ]
     },
     "execution_count": 183,
     "metadata": {},
     "output_type": "execute_result"
    },
    {
     "data": {
      "image/png": "[encoded data removed]",
      "text/plain": [
       "<Figure size 648x432 with 1 Axes>"
      ]
     },
     "metadata": {
      "needs_background": "light"
     },
     "output_type": "display_data"
    }
   ],
   "source": [
    "plt.figure(figsize=(9,6))\n",
    "\n",
    "# sns.kdeplot(integral, );\n",
    "# sns.distplot(integral, bins=200, );\n",
    "plt.hist(np.array(integral), bins=500, histtype=\"step\", lw=2, label=\"[56,66]\");\n",
    "\n",
    "plt.grid()\n",
    "plt.yscale(\"log\")\n",
    "# plt.ylim(1E-4,)\n",
    "plt.xlabel(\"PE\")\n",
    "plt.ylabel(\"Counts/bin\")\n",
    "plt.title(\"Background spectrum\")\n",
    "# plt.savefig(\"name.pdf\")"
   ]
  },
  {
   "cell_type": "markdown",
   "id": "6e9db75b-e15b-41aa-9d2a-e7dda70cb201",
   "metadata": {},
   "source": [
    "# Muon/Gamma Separation Toy Monte Carlo Studies\n",
    "## Generate Gamma Distributions\n",
    "We currently don't have the simulated event-wise information, so this version of code creatse a \"fake\" background gamma spectrum composed of rough estimates of the K-40 and Tl-208 lines. (By T. Langford)"
   ]
  },
  {
   "cell_type": "code",
   "execution_count": 506,
   "id": "ba9be41c-4f86-4312-8443-a9df72337ef5",
   "metadata": {},
   "outputs": [],
   "source": [
    "#peak = np.random.normal(loc=1.26, scale=0.1, size=70000)\n",
    "\n",
    "#continuum = np.random.random(size=70000)\n",
    "#continuum = np.multiply(continuum, 1.26)\n",
    "\n",
    "#low_e = np.random.exponential(scale=0.2, size=1000000)\n",
    "\n",
    "#k40 = np.concatenate((peak,continuum, low_e))\n",
    "\n",
    "scale_factor= .2\n",
    "peak = np.random.normal(loc=1.26, scale=0.1, size=int(100000*scale_factor))\n",
    "\n",
    "continuum = np.random.random(size=int(1000000*scale_factor))\n",
    "continuum = np.multiply(continuum, 1.26)\n",
    "\n",
    "low_e = np.random.exponential(scale=0.2, size=int(100000))\n",
    "\n",
    "k40 = np.concatenate((peak,continuum, low_e))"
   ]
  },
  {
   "cell_type": "code",
   "execution_count": 507,
   "id": "24a4b86c-38b3-4465-b601-f28013c11010",
   "metadata": {},
   "outputs": [],
   "source": [
    "#peak = np.random.normal(loc=2.4, scale=0.1, size=7000)\n",
    "\n",
    "#continuum = np.random.random(size=7000)\n",
    "#continuum = np.multiply(continuum, 2.4)\n",
    "\n",
    "#low_e = np.random.exponential(scale=0.3, size=100000)\n",
    "\n",
    "#tl208 = np.concatenate((peak,continuum, low_e))\n",
    "\n",
    "tl_scale_factor= scale_factor*.1\n",
    "\n",
    "peak = np.random.normal(loc=2.4, scale=0.1, size=int(100000*tl_scale_factor))\n",
    "\n",
    "continuum = np.random.random(size=int(1000000*tl_scale_factor))\n",
    "continuum = np.multiply(continuum, 2.4)\n",
    "\n",
    "low_e = np.random.exponential(scale=0.3, size=int(100000*scale_factor))\n",
    "\n",
    "tl208 = np.concatenate((peak,continuum, low_e))"
   ]
  },
  {
   "cell_type": "code",
   "execution_count": 508,
   "id": "dc638ae1-dfb9-4208-9acb-86458742cc20",
   "metadata": {},
   "outputs": [],
   "source": [
    "bg = np.concatenate((k40,tl208))"
   ]
  },
  {
   "cell_type": "code",
   "execution_count": 509,
   "id": "00adcda4-0434-465c-9c2c-3714c77140c5",
   "metadata": {},
   "outputs": [
    {
     "data": {
      "image/png": "[encoded data removed]",
      "text/plain": [
       "<Figure size 432x288 with 1 Axes>"
      ]
     },
     "metadata": {
      "needs_background": "light"
     },
     "output_type": "display_data"
    }
   ],
   "source": [
    "plt.hist(bg, bins=200, range=(0,3), histtype='step');\n",
    "plt.xlabel('Energy (MeV)');\n",
    "plt.ylabel('Counts');\n",
    "plt.yscale(\"log\")"
   ]
  },
  {
   "cell_type": "markdown",
   "id": "7fef64d9-c276-495f-aed9-97180486be54",
   "metadata": {
    "tags": []
   },
   "source": [
    "# Muon distribution via Moyal\n",
    "Use a moyal distribution with manually tuned loc and scale (T. Langford)\n",
    "\n",
    "TODO: Adjust parameters to match the data (surface and underground)"
   ]
  },
  {
   "cell_type": "code",
   "execution_count": 510,
   "id": "b9f6535c-fba0-4aa0-8d9c-9fd7da73f815",
   "metadata": {},
   "outputs": [],
   "source": [
    "mu = moyal.rvs(loc=4.5, scale=.7, size=15000)"
   ]
  },
  {
   "cell_type": "code",
   "execution_count": 511,
   "id": "ea779fe7-44a2-4ae9-ad49-375702763ee9",
   "metadata": {},
   "outputs": [
    {
     "data": {
      "image/png": "[encoded data removed]",
      "text/plain": [
       "<Figure size 432x288 with 1 Axes>"
      ]
     },
     "metadata": {
      "needs_background": "light"
     },
     "output_type": "display_data"
    }
   ],
   "source": [
    "plt.hist(mu, bins=200, range=(0,20), histtype='step');\n",
    "plt.xlabel('Energy (MeV)');\n",
    "plt.ylabel('Counts');"
   ]
  },
  {
   "cell_type": "markdown",
   "id": "ff0d5a50-69a6-4a45-8ee5-a0137e640ddf",
   "metadata": {},
   "source": [
    "# Apply PE/MeV resolution"
   ]
  },
  {
   "cell_type": "code",
   "execution_count": 519,
   "id": "8227d72a-4f4d-4789-ad28-651a5def0977",
   "metadata": {},
   "outputs": [],
   "source": [
    "# pe/MeV for a specfic prototype\n",
    "pe_mev = 30"
   ]
  },
  {
   "cell_type": "code",
   "execution_count": 520,
   "id": "de6e29a6-2d26-4284-a235-f015d5046ec5",
   "metadata": {},
   "outputs": [],
   "source": [
    "bg_pe = np.multiply(bg, pe_mev)\n",
    "mu_pe = np.multiply(mu, pe_mev)"
   ]
  },
  {
   "cell_type": "code",
   "execution_count": 521,
   "id": "936f2888-99db-497f-a1b8-4131237035c8",
   "metadata": {},
   "outputs": [],
   "source": [
    "bg_smeared = np.random.normal(loc=bg_pe, scale=np.sqrt(bg_pe)*2)\n",
    "mu_smeared = np.random.normal(loc=mu_pe, scale=np.sqrt(mu_pe)*1.1)"
   ]
  },
  {
   "cell_type": "code",
   "execution_count": 522,
   "id": "75aeac59-978c-47e9-a731-8a41b736f379",
   "metadata": {},
   "outputs": [],
   "source": [
    "bg_det = np.divide(bg_smeared, pe_mev)\n",
    "mu_det = np.divide(mu_smeared, pe_mev)"
   ]
  },
  {
   "cell_type": "code",
   "execution_count": 523,
   "id": "04611463-9b68-4b36-99b3-2092c53314af",
   "metadata": {},
   "outputs": [
    {
     "data": {
      "image/png": "[encoded data removed]",
      "text/plain": [
       "<Figure size 432x288 with 1 Axes>"
      ]
     },
     "metadata": {
      "needs_background": "light"
     },
     "output_type": "display_data"
    }
   ],
   "source": [
    "plt.hist(bg_pe, bins=200, range=(0,pe_mev*4), histtype='step', label='raw');\n",
    "plt.hist(bg_smeared, bins=200, range=(0,pe_mev*4), histtype='step', label='smeared');\n",
    "plt.legend()\n",
    "plt.xlabel('PE');\n",
    "plt.ylabel('Counts');\n",
    "plt.yscale(\"log\")"
   ]
  },
  {
   "cell_type": "code",
   "execution_count": 524,
   "id": "0ff4187c-c46b-46fa-9e2d-d3de649ccdb1",
   "metadata": {},
   "outputs": [
    {
     "data": {
      "image/png": "[encoded data removed]",
      "text/plain": [
       "<Figure size 432x288 with 1 Axes>"
      ]
     },
     "metadata": {
      "needs_background": "light"
     },
     "output_type": "display_data"
    }
   ],
   "source": [
    "plt.hist(mu_pe, bins=200, range=(0,pe_mev*15), histtype='step', label='raw');\n",
    "plt.hist(mu_smeared, bins=200, range=(0,pe_mev*15), histtype='step', label='smeared');\n",
    "plt.legend()\n",
    "plt.xlabel('PE');\n",
    "plt.ylabel('Counts');"
   ]
  },
  {
   "cell_type": "markdown",
   "id": "6a8ced1c-7240-4255-a261-f380a43e62f3",
   "metadata": {},
   "source": [
    "# Comparing Simulation to Measured Spectrum"
   ]
  },
  {
   "cell_type": "markdown",
   "id": "8101c3fa-4001-4bfd-80c6-7f4d2d31b775",
   "metadata": {},
   "source": [
    "## Gamma Spectrum and Simulation"
   ]
  },
  {
   "cell_type": "code",
   "execution_count": 525,
   "id": "0b292995-2381-47d5-894e-08502df997d4",
   "metadata": {},
   "outputs": [
    {
     "data": {
      "text/plain": [
       "Text(0.5, 1.0, 'Background spectrum')"
      ]
     },
     "execution_count": 525,
     "metadata": {},
     "output_type": "execute_result"
    },
    {
     "data": {
      "image/png": "[encoded data removed]",
      "text/plain": [
       "<Figure size 648x432 with 1 Axes>"
      ]
     },
     "metadata": {
      "needs_background": "light"
     },
     "output_type": "display_data"
    }
   ],
   "source": [
    "plt.figure(figsize=(9,6))\n",
    "\n",
    "# sns.kdeplot(integral, );\n",
    "# sns.distplot(integral, bins=200, );\n",
    "plt.hist(np.array(integral), bins=200, range = (0,120),histtype=\"step\", lw=2, label=\"[56,66]\");\n",
    "plt.hist(bg_smeared, bins=200, range=(0,120), histtype='step', label='Gamma')\n",
    "#plt.hist(bg_smeared, bins=200, range=(0,pe_mev*15), histtype='step', label='Gamma')\n",
    "\n",
    "plt.grid()\n",
    "plt.yscale(\"log\")\n",
    "# plt.ylim(1E-4,)\n",
    "plt.xlabel(\"PE\")\n",
    "plt.ylabel(\"Counts/bin\")\n",
    "plt.title(\"Background spectrum\")\n",
    "# plt.savefig(\"20210816_1521_LED5_diffWindows_noNorm.pdf\")"
   ]
  },
  {
   "cell_type": "markdown",
   "id": "65ac6f87-d8fb-444c-b527-32e010658a96",
   "metadata": {},
   "source": [
    "# Muon Spectrum and Simulation"
   ]
  },
  {
   "cell_type": "code",
   "execution_count": 369,
   "id": "a05e97af-b375-4071-ad79-41f3883eab64",
   "metadata": {},
   "outputs": [
    {
     "data": {
      "text/plain": [
       "Text(0.5, 1.0, 'Background spectrum')"
      ]
     },
     "execution_count": 369,
     "metadata": {},
     "output_type": "execute_result"
    },
    {
     "data": {
      "image/png": "[encoded data removed]",
      "text/plain": [
       "<Figure size 648x432 with 1 Axes>"
      ]
     },
     "metadata": {
      "needs_background": "light"
     },
     "output_type": "display_data"
    }
   ],
   "source": [
    "plt.figure(figsize=(9,6))\n",
    "\n",
    "# sns.kdeplot(integral, );\n",
    "# sns.distplot(integral, bins=200, );\n",
    "plt.hist(np.array(integral), bins=200, range = (70,pe_mev*15),histtype=\"step\", lw=2, label=\"[56,66]\");\n",
    "plt.hist(mu_smeared, bins=200, range=(0,pe_mev*15), histtype='step', label='smeared');\n",
    "\n",
    "plt.grid()\n",
    "plt.yscale(\"log\")\n",
    "# plt.ylim(1E-4,)\n",
    "plt.xlabel(\"PE\")\n",
    "plt.ylabel(\"Counts/bin\")\n",
    "plt.title(\"Background spectrum\")\n",
    "# plt.savefig(\"20210816_1521_LED5_diffWindows_noNorm.pdf\")"
   ]
  },
  {
   "cell_type": "code",
   "execution_count": 134,
   "id": "49105d82-efe3-41be-a189-1e8fbf076195",
   "metadata": {},
   "outputs": [
    {
     "data": {
      "image/png": "[encoded data removed]",
      "text/plain": [
       "<Figure size 432x288 with 1 Axes>"
      ]
     },
     "metadata": {
      "needs_background": "light"
     },
     "output_type": "display_data"
    }
   ],
   "source": [
    "plt.hist(bg_smeared, bins=200, range=(0,pe_mev*15), histtype='step', label='Gamma')\n",
    "plt.hist(mu_smeared, bins=200, range=(0,pe_mev*15), histtype='step', label='Muons')\n",
    "plt.yscale('log')\n",
    "plt.xlabel('PE');\n",
    "plt.ylabel('Counts');"
   ]
  },
  {
   "cell_type": "code",
   "execution_count": 34,
   "id": "61f10d65-3d13-4245-803f-315f04e0500e",
   "metadata": {},
   "outputs": [
    {
     "data": {
      "image/png": "[encoded data removed]",
      "text/plain": [
       "<Figure size 432x288 with 1 Axes>"
      ]
     },
     "metadata": {
      "needs_background": "light"
     },
     "output_type": "display_data"
    }
   ],
   "source": [
    "plt.hist(bg_det, bins=200, range=(0,20), histtype='step')\n",
    "plt.hist(mu_det, bins=200, range=(0,20), histtype='step')\n",
    "plt.yscale('log')\n",
    "plt.xlabel('Energy (MeV)');\n",
    "plt.ylabel('Counts');"
   ]
  },
  {
   "cell_type": "code",
   "execution_count": null,
   "id": "8b785871-91a0-4658-ab16-1743efce0999",
   "metadata": {},
   "outputs": [],
   "source": []
  }
 ],
 "metadata": {
  "kernelspec": {
   "display_name": "Python 3 (ipykernel)",
   "language": "python",
   "name": "python3"
  },
  "language_info": {
   "codemirror_mode": {
    "name": "ipython",
    "version": 3
   },
   "file_extension": ".py",
   "mimetype": "text/x-python",
   "name": "python",
   "nbconvert_exporter": "python",
   "pygments_lexer": "ipython3",
   "version": "3.8.10"
  }
 },
 "nbformat": 4,
 "nbformat_minor": 5
}
