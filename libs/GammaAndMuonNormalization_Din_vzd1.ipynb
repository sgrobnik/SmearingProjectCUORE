{
 "cells": [
  {
   "cell_type": "markdown",
   "id": "acb1c128",
   "metadata": {},
   "source": [
    "# HELPER: Normalize Gamma and Muon Flux (vzd1)\n",
    "\n",
    "#### Din-Ammar Tolj - Y25\n",
    "Maruyama Group, Summer 2023\n",
    "\n",
    "This helper notebook scales the mc simulated gamma/muons by taking the ratio of the lab data flux and calculated mc sim flux. TFractionFitter is used for minimizing chi2/ndf of the gamma background.\n",
    "\n",
    "#### TEMPORARY, this should be converted to a Python script eventually"
   ]
  },
  {
   "cell_type": "markdown",
   "id": "276ff7f5",
   "metadata": {},
   "source": [
    "### Declare constants and static variables"
   ]
  },
  {
   "cell_type": "code",
   "execution_count": 1,
   "id": "ee500acc",
   "metadata": {},
   "outputs": [],
   "source": [
    "R = 0.07\n",
    "hmin = 0.01 # [MeV]\n",
    "hmax = 14 # [MeV]\n",
    "bins = int((hmax-hmin)/R)"
   ]
  },
  {
   "cell_type": "code",
   "execution_count": 2,
   "id": "92feaec1",
   "metadata": {},
   "outputs": [
    {
     "ename": "NameError",
     "evalue": "name 'TH1F' is not defined",
     "output_type": "error",
     "traceback": [
      "\u001b[0;31m---------------------------------------------------------------------------\u001b[0m",
      "\u001b[0;31mNameError\u001b[0m                                 Traceback (most recent call last)",
      "\u001b[0;32m/tmp/ipykernel_291421/3992202058.py\u001b[0m in \u001b[0;36m<module>\u001b[0;34m\u001b[0m\n\u001b[1;32m      1\u001b[0m \u001b[0;31m# Smeared gamma lines\u001b[0m\u001b[0;34m\u001b[0m\u001b[0;34m\u001b[0m\u001b[0;34m\u001b[0m\u001b[0m\n\u001b[0;32m----> 2\u001b[0;31m \u001b[0mh_sme1\u001b[0m \u001b[0;34m=\u001b[0m \u001b[0mTH1F\u001b[0m\u001b[0;34m(\u001b[0m\u001b[0;34m'smear1'\u001b[0m\u001b[0;34m,\u001b[0m \u001b[0;34m''\u001b[0m\u001b[0;34m,\u001b[0m \u001b[0mbins\u001b[0m\u001b[0;34m,\u001b[0m \u001b[0mhmin\u001b[0m\u001b[0;34m,\u001b[0m \u001b[0mhmax\u001b[0m\u001b[0;34m)\u001b[0m\u001b[0;34m\u001b[0m\u001b[0;34m\u001b[0m\u001b[0m\n\u001b[0m\u001b[1;32m      3\u001b[0m \u001b[0mh_sme2\u001b[0m \u001b[0;34m=\u001b[0m \u001b[0mTH1F\u001b[0m\u001b[0;34m(\u001b[0m\u001b[0;34m'smear2'\u001b[0m\u001b[0;34m,\u001b[0m \u001b[0;34m''\u001b[0m\u001b[0;34m,\u001b[0m \u001b[0mbins\u001b[0m\u001b[0;34m,\u001b[0m \u001b[0mhmin\u001b[0m\u001b[0;34m,\u001b[0m \u001b[0mhmax\u001b[0m\u001b[0;34m)\u001b[0m\u001b[0;34m\u001b[0m\u001b[0;34m\u001b[0m\u001b[0m\n\u001b[1;32m      4\u001b[0m \u001b[0mh_sme3\u001b[0m \u001b[0;34m=\u001b[0m \u001b[0mTH1F\u001b[0m\u001b[0;34m(\u001b[0m\u001b[0;34m'smear3'\u001b[0m\u001b[0;34m,\u001b[0m \u001b[0;34m''\u001b[0m\u001b[0;34m,\u001b[0m \u001b[0mbins\u001b[0m\u001b[0;34m,\u001b[0m \u001b[0mhmin\u001b[0m\u001b[0;34m,\u001b[0m \u001b[0mhmax\u001b[0m\u001b[0;34m)\u001b[0m\u001b[0;34m\u001b[0m\u001b[0;34m\u001b[0m\u001b[0m\n\u001b[1;32m      5\u001b[0m \u001b[0mh_sme4\u001b[0m \u001b[0;34m=\u001b[0m \u001b[0mTH1F\u001b[0m\u001b[0;34m(\u001b[0m\u001b[0;34m'smear4'\u001b[0m\u001b[0;34m,\u001b[0m \u001b[0;34m''\u001b[0m\u001b[0;34m,\u001b[0m \u001b[0mbins\u001b[0m\u001b[0;34m,\u001b[0m \u001b[0mhmin\u001b[0m\u001b[0;34m,\u001b[0m \u001b[0mhmax\u001b[0m\u001b[0;34m)\u001b[0m\u001b[0;34m\u001b[0m\u001b[0;34m\u001b[0m\u001b[0m\n",
      "\u001b[0;31mNameError\u001b[0m: name 'TH1F' is not defined"
     ]
    }
   ],
   "source": [
    "# Lab data\n",
    "h_dat = TH1F('lab', '', bins, hmin, hmax) #Lab data\n",
    "fill_hist(h_dat, lab_mev)\n",
    "\n",
    "# Smeared gamma lines\n",
    "h_sme1 = TH1F('smear1', '', bins, hmin, hmax)\n",
    "h_sme2 = TH1F('smear2', '', bins, hmin, hmax)\n",
    "h_sme3 = TH1F('smear3', '', bins, hmin, hmax)\n",
    "h_sme4 = TH1F('smear4', '', bins, hmin, hmax)\n",
    "h_sme5 = TH1F('smear5', '', bins, hmin, hmax)\n",
    "h_sme6 = TH1F('smear6', '', bins, hmin, hmax)\n",
    "h_sme7 = TH1F('smear7', '', bins, hmin, hmax)\n",
    "h_sme8 = TH1F('smear8', '', bins, hmin, hmax)\n",
    "h_sme9 = TH1F('smear9', '', bins, hmin, hmax)\n",
    "h_sme10 = TH1F('smear10', '', bins, hmin, hmax)\n",
    "\n",
    "# Total\n",
    "tots = TH1F('tots','',bins,hmin,hmax)"
   ]
  },
  {
   "cell_type": "markdown",
   "id": "85f17f10",
   "metadata": {},
   "source": [
    "### Apply linear smearing as done in SmearingProject notebook"
   ]
  },
  {
   "cell_type": "code",
   "execution_count": 3,
   "id": "365eeee6",
   "metadata": {},
   "outputs": [
    {
     "ename": "NameError",
     "evalue": "name 'fill_hist' is not defined",
     "output_type": "error",
     "traceback": [
      "\u001b[0;31m---------------------------------------------------------------------------\u001b[0m",
      "\u001b[0;31mNameError\u001b[0m                                 Traceback (most recent call last)",
      "\u001b[0;32m/tmp/ipykernel_291421/940052176.py\u001b[0m in \u001b[0;36m<module>\u001b[0;34m\u001b[0m\n\u001b[0;32m----> 1\u001b[0;31m \u001b[0mfill_hist\u001b[0m\u001b[0;34m(\u001b[0m\u001b[0mh_sme1\u001b[0m\u001b[0;34m,\u001b[0m \u001b[0mnp\u001b[0m\u001b[0;34m.\u001b[0m\u001b[0mrandom\u001b[0m\u001b[0;34m.\u001b[0m\u001b[0mnormal\u001b[0m\u001b[0;34m(\u001b[0m\u001b[0mloc\u001b[0m\u001b[0;34m=\u001b[0m\u001b[0mnp\u001b[0m\u001b[0;34m.\u001b[0m\u001b[0marray\u001b[0m\u001b[0;34m(\u001b[0m\u001b[0menergyDeposited1460\u001b[0m\u001b[0;34m)\u001b[0m \u001b[0;34m*\u001b[0m \u001b[0mpe_mev\u001b[0m\u001b[0;34m,\u001b[0m \u001b[0mscale\u001b[0m \u001b[0;34m=\u001b[0m \u001b[0;36m0.7087\u001b[0m \u001b[0;34m*\u001b[0m \u001b[0mnp\u001b[0m\u001b[0;34m.\u001b[0m\u001b[0mpower\u001b[0m\u001b[0;34m(\u001b[0m\u001b[0msig1pe\u001b[0m \u001b[0;34m*\u001b[0m \u001b[0mnp\u001b[0m\u001b[0;34m.\u001b[0m\u001b[0marray\u001b[0m\u001b[0;34m(\u001b[0m\u001b[0menergyDeposited1460\u001b[0m\u001b[0;34m)\u001b[0m \u001b[0;34m*\u001b[0m \u001b[0mpe_mev\u001b[0m\u001b[0;34m,\u001b[0m \u001b[0;36m0.5\u001b[0m\u001b[0;34m)\u001b[0m\u001b[0;34m)\u001b[0m\u001b[0;34m/\u001b[0m\u001b[0mpe_mev\u001b[0m\u001b[0;34m)\u001b[0m\u001b[0;34m\u001b[0m\u001b[0;34m\u001b[0m\u001b[0m\n\u001b[0m\u001b[1;32m      2\u001b[0m \u001b[0mfill_hist\u001b[0m\u001b[0;34m(\u001b[0m\u001b[0mh_sme2\u001b[0m\u001b[0;34m,\u001b[0m \u001b[0mnp\u001b[0m\u001b[0;34m.\u001b[0m\u001b[0mrandom\u001b[0m\u001b[0;34m.\u001b[0m\u001b[0mnormal\u001b[0m\u001b[0;34m(\u001b[0m\u001b[0mloc\u001b[0m\u001b[0;34m=\u001b[0m\u001b[0mnp\u001b[0m\u001b[0;34m.\u001b[0m\u001b[0marray\u001b[0m\u001b[0;34m(\u001b[0m\u001b[0menergyDeposited2614\u001b[0m\u001b[0;34m)\u001b[0m \u001b[0;34m*\u001b[0m \u001b[0mpe_mev\u001b[0m\u001b[0;34m,\u001b[0m \u001b[0mscale\u001b[0m \u001b[0;34m=\u001b[0m \u001b[0;36m0.7087\u001b[0m \u001b[0;34m*\u001b[0m \u001b[0mnp\u001b[0m\u001b[0;34m.\u001b[0m\u001b[0mpower\u001b[0m\u001b[0;34m(\u001b[0m\u001b[0msig1pe\u001b[0m \u001b[0;34m*\u001b[0m \u001b[0mnp\u001b[0m\u001b[0;34m.\u001b[0m\u001b[0marray\u001b[0m\u001b[0;34m(\u001b[0m\u001b[0menergyDeposited2614\u001b[0m\u001b[0;34m)\u001b[0m \u001b[0;34m*\u001b[0m \u001b[0mpe_mev\u001b[0m\u001b[0;34m,\u001b[0m \u001b[0;36m0.5\u001b[0m\u001b[0;34m)\u001b[0m\u001b[0;34m)\u001b[0m\u001b[0;34m/\u001b[0m\u001b[0mpe_mev\u001b[0m\u001b[0;34m)\u001b[0m\u001b[0;34m\u001b[0m\u001b[0;34m\u001b[0m\u001b[0m\n\u001b[1;32m      3\u001b[0m \u001b[0mfill_hist\u001b[0m\u001b[0;34m(\u001b[0m\u001b[0mh_sme3\u001b[0m\u001b[0;34m,\u001b[0m \u001b[0mnp\u001b[0m\u001b[0;34m.\u001b[0m\u001b[0mrandom\u001b[0m\u001b[0;34m.\u001b[0m\u001b[0mnormal\u001b[0m\u001b[0;34m(\u001b[0m\u001b[0mloc\u001b[0m\u001b[0;34m=\u001b[0m\u001b[0mnp\u001b[0m\u001b[0;34m.\u001b[0m\u001b[0marray\u001b[0m\u001b[0;34m(\u001b[0m\u001b[0menergyDeposited1120\u001b[0m\u001b[0;34m)\u001b[0m \u001b[0;34m*\u001b[0m \u001b[0mpe_mev\u001b[0m\u001b[0;34m,\u001b[0m \u001b[0mscale\u001b[0m \u001b[0;34m=\u001b[0m \u001b[0;36m0.7087\u001b[0m \u001b[0;34m*\u001b[0m \u001b[0mnp\u001b[0m\u001b[0;34m.\u001b[0m\u001b[0mpower\u001b[0m\u001b[0;34m(\u001b[0m\u001b[0msig1pe\u001b[0m \u001b[0;34m*\u001b[0m \u001b[0mnp\u001b[0m\u001b[0;34m.\u001b[0m\u001b[0marray\u001b[0m\u001b[0;34m(\u001b[0m\u001b[0menergyDeposited1120\u001b[0m\u001b[0;34m)\u001b[0m \u001b[0;34m*\u001b[0m \u001b[0mpe_mev\u001b[0m\u001b[0;34m,\u001b[0m \u001b[0;36m0.5\u001b[0m\u001b[0;34m)\u001b[0m\u001b[0;34m)\u001b[0m\u001b[0;34m/\u001b[0m\u001b[0mpe_mev\u001b[0m\u001b[0;34m)\u001b[0m\u001b[0;34m\u001b[0m\u001b[0;34m\u001b[0m\u001b[0m\n\u001b[1;32m      4\u001b[0m \u001b[0mfill_hist\u001b[0m\u001b[0;34m(\u001b[0m\u001b[0mh_sme4\u001b[0m\u001b[0;34m,\u001b[0m \u001b[0mnp\u001b[0m\u001b[0;34m.\u001b[0m\u001b[0mrandom\u001b[0m\u001b[0;34m.\u001b[0m\u001b[0mnormal\u001b[0m\u001b[0;34m(\u001b[0m\u001b[0mloc\u001b[0m\u001b[0;34m=\u001b[0m\u001b[0mnp\u001b[0m\u001b[0;34m.\u001b[0m\u001b[0marray\u001b[0m\u001b[0;34m(\u001b[0m\u001b[0menergyDeposited1238\u001b[0m\u001b[0;34m)\u001b[0m \u001b[0;34m*\u001b[0m \u001b[0mpe_mev\u001b[0m\u001b[0;34m,\u001b[0m \u001b[0mscale\u001b[0m \u001b[0;34m=\u001b[0m \u001b[0;36m0.7087\u001b[0m \u001b[0;34m*\u001b[0m \u001b[0mnp\u001b[0m\u001b[0;34m.\u001b[0m\u001b[0mpower\u001b[0m\u001b[0;34m(\u001b[0m\u001b[0msig1pe\u001b[0m \u001b[0;34m*\u001b[0m \u001b[0mnp\u001b[0m\u001b[0;34m.\u001b[0m\u001b[0marray\u001b[0m\u001b[0;34m(\u001b[0m\u001b[0menergyDeposited1238\u001b[0m\u001b[0;34m)\u001b[0m \u001b[0;34m*\u001b[0m \u001b[0mpe_mev\u001b[0m\u001b[0;34m,\u001b[0m \u001b[0;36m0.5\u001b[0m\u001b[0;34m)\u001b[0m\u001b[0;34m)\u001b[0m\u001b[0;34m/\u001b[0m\u001b[0mpe_mev\u001b[0m\u001b[0;34m)\u001b[0m\u001b[0;34m\u001b[0m\u001b[0;34m\u001b[0m\u001b[0m\n\u001b[1;32m      5\u001b[0m \u001b[0mfill_hist\u001b[0m\u001b[0;34m(\u001b[0m\u001b[0mh_sme5\u001b[0m\u001b[0;34m,\u001b[0m \u001b[0mnp\u001b[0m\u001b[0;34m.\u001b[0m\u001b[0mrandom\u001b[0m\u001b[0;34m.\u001b[0m\u001b[0mnormal\u001b[0m\u001b[0;34m(\u001b[0m\u001b[0mloc\u001b[0m\u001b[0;34m=\u001b[0m\u001b[0mnp\u001b[0m\u001b[0;34m.\u001b[0m\u001b[0marray\u001b[0m\u001b[0;34m(\u001b[0m\u001b[0menergyDeposited1764\u001b[0m\u001b[0;34m)\u001b[0m \u001b[0;34m*\u001b[0m \u001b[0mpe_mev\u001b[0m\u001b[0;34m,\u001b[0m \u001b[0mscale\u001b[0m \u001b[0;34m=\u001b[0m \u001b[0;36m0.7087\u001b[0m \u001b[0;34m*\u001b[0m \u001b[0mnp\u001b[0m\u001b[0;34m.\u001b[0m\u001b[0mpower\u001b[0m\u001b[0;34m(\u001b[0m\u001b[0msig1pe\u001b[0m \u001b[0;34m*\u001b[0m \u001b[0mnp\u001b[0m\u001b[0;34m.\u001b[0m\u001b[0marray\u001b[0m\u001b[0;34m(\u001b[0m\u001b[0menergyDeposited1764\u001b[0m\u001b[0;34m)\u001b[0m \u001b[0;34m*\u001b[0m \u001b[0mpe_mev\u001b[0m\u001b[0;34m,\u001b[0m \u001b[0;36m0.5\u001b[0m\u001b[0;34m)\u001b[0m\u001b[0;34m)\u001b[0m\u001b[0;34m/\u001b[0m\u001b[0mpe_mev\u001b[0m\u001b[0;34m)\u001b[0m\u001b[0;34m\u001b[0m\u001b[0;34m\u001b[0m\u001b[0m\n",
      "\u001b[0;31mNameError\u001b[0m: name 'fill_hist' is not defined"
     ]
    }
   ],
   "source": [
    "fill_hist(h_sme1, np.random.normal(loc=np.array(energyDeposited1460) * pe_mev, scale = a * np.power(sig1pe * np.array(energyDeposited1460) * pe_mev, 0.5))/pe_mev)\n",
    "fill_hist(h_sme2, np.random.normal(loc=np.array(energyDeposited2614) * pe_mev, scale = a * np.power(sig1pe * np.array(energyDeposited2614) * pe_mev, 0.5))/pe_mev)\n",
    "fill_hist(h_sme3, np.random.normal(loc=np.array(energyDeposited1120) * pe_mev, scale = a * np.power(sig1pe * np.array(energyDeposited1120) * pe_mev, 0.5))/pe_mev)\n",
    "fill_hist(h_sme4, np.random.normal(loc=np.array(energyDeposited1238) * pe_mev, scale = a * np.power(sig1pe * np.array(energyDeposited1238) * pe_mev, 0.5))/pe_mev)\n",
    "fill_hist(h_sme5, np.random.normal(loc=np.array(energyDeposited1764) * pe_mev, scale = a * np.power(sig1pe * np.array(energyDeposited1764) * pe_mev, 0.5))/pe_mev)\n",
    "fill_hist(h_sme6, np.random.normal(loc=np.array(energyDeposited968) * pe_mev, scale = a * np.power(sig1pe * np.array(energyDeposited968) * pe_mev, 0.5))/pe_mev)\n",
    "fill_hist(h_sme7, np.random.normal(loc=np.array(energyDeposited934) * pe_mev, scale = a * np.power(sig1pe * np.array(energyDeposited934) * pe_mev, 0.5))/pe_mev)\n",
    "fill_hist(h_sme8, np.random.normal(loc=np.array(energyDeposited911) * pe_mev, scale = a * np.power(sig1pe * np.array(energyDeposited911) * pe_mev, 0.5))/pe_mev)\n",
    "fill_hist(h_sme9, np.random.normal(loc=np.array(energyDeposited609) * pe_mev, scale = a * np.power(sig1pe * np.array(energyDeposited609) * pe_mev, 0.5))/pe_mev)\n",
    "fill_hist(h_sme10, np.random.normal(loc=np.array(energyDeposited583) * pe_mev, scale = a * np.power(sig1pe * np.array(energyDeposited583) * pe_mev, 0.5))/pe_mev)"
   ]
  },
  {
   "cell_type": "code",
   "execution_count": 1,
   "id": "bf39c072",
   "metadata": {},
   "outputs": [
    {
     "ename": "NameError",
     "evalue": "name 'gStyle' is not defined",
     "output_type": "error",
     "traceback": [
      "\u001b[0;31m---------------------------------------------------------------------------\u001b[0m",
      "\u001b[0;31mNameError\u001b[0m                                 Traceback (most recent call last)",
      "\u001b[0;32m/tmp/ipykernel_291491/3855700420.py\u001b[0m in \u001b[0;36m<module>\u001b[0;34m\u001b[0m\n\u001b[0;32m----> 1\u001b[0;31m \u001b[0mgStyle\u001b[0m\u001b[0;34m.\u001b[0m\u001b[0mSetOptStat\u001b[0m\u001b[0;34m(\u001b[0m\u001b[0;34m\"\"\u001b[0m\u001b[0;34m)\u001b[0m\u001b[0;34m\u001b[0m\u001b[0;34m\u001b[0m\u001b[0m\n\u001b[0m\u001b[1;32m      2\u001b[0m \u001b[0mgStyle\u001b[0m\u001b[0;34m.\u001b[0m\u001b[0mSetOptFit\u001b[0m\u001b[0;34m(\u001b[0m\u001b[0;36m0\u001b[0m\u001b[0;34m)\u001b[0m\u001b[0;34m\u001b[0m\u001b[0;34m\u001b[0m\u001b[0m\n\u001b[1;32m      3\u001b[0m \u001b[0;34m\u001b[0m\u001b[0m\n\u001b[1;32m      4\u001b[0m \u001b[0mgStyle\u001b[0m\u001b[0;34m.\u001b[0m\u001b[0mSetPadBottomMargin\u001b[0m\u001b[0;34m(\u001b[0m\u001b[0;36m0.12\u001b[0m\u001b[0;34m)\u001b[0m\u001b[0;34m\u001b[0m\u001b[0;34m\u001b[0m\u001b[0m\n\u001b[1;32m      5\u001b[0m \u001b[0mgStyle\u001b[0m\u001b[0;34m.\u001b[0m\u001b[0mSetPadLeftMargin\u001b[0m  \u001b[0;34m(\u001b[0m\u001b[0;36m0.11\u001b[0m\u001b[0;34m)\u001b[0m\u001b[0;34m\u001b[0m\u001b[0;34m\u001b[0m\u001b[0m\n",
      "\u001b[0;31mNameError\u001b[0m: name 'gStyle' is not defined"
     ]
    }
   ],
   "source": [
    "gStyle.SetOptStat(\"\")\n",
    "gStyle.SetOptFit(0)\n",
    "\n",
    "gStyle.SetPadBottomMargin(0.12)\n",
    "gStyle.SetPadLeftMargin  (0.11)\n",
    "#gStyle.SetPadTopMargin   (0.02)\n",
    "gStyle.SetPadRightMargin (0.05)\n",
    "\n",
    "gStyle.SetTitleOffset(1.2,\"x\")\n",
    "gStyle.SetTitleOffset(1.0,\"y\")\n",
    "gStyle.SetTitleSize(0.045,\"xy\")\n",
    "gStyle.SetLabelSize(0.040,\"xy\")\n",
    "\n",
    "h_dat.Sumw2()\n",
    "\n",
    "# pre-scale the MC histos so the templates have similar error\n",
    "# this helps the fitter give same weight to all MC\n",
    "# so it's independant of MC statistics\n",
    "# but if statistics are too low, it won't work\n",
    "lx = int(0.3/R)\n",
    "ux = int(2.6/R)\n",
    "dat_int = h_dat.Integral(lx,ux)\n",
    "int1 = h_sme1.Integral(lx,ux)\n",
    "h_sme1.Scale(dat_int/int1)\n",
    "h_sme1.Sumw2()\n",
    "int2 = h_sme2.Integral(lx,ux)\n",
    "h_sme2.Scale(dat_int/int2)\n",
    "#h_sim2.Scale(dat_int/int2 * 0.199) # try fixing this param\n",
    "h_sme2.Sumw2()\n",
    "int3 = h_sme3.Integral(lx,ux)\n",
    "h_sme3.Scale(dat_int/int3)\n",
    "h_sme3.Sumw2()\n",
    "int4 = h_sme4.Integral(lx,ux)\n",
    "h_sme4.Scale(dat_int/int4)\n",
    "h_sme4.Sumw2()\n",
    "int5 = h_sme5.Integral(lx,ux)\n",
    "h_sme5.Scale(dat_int/int5)\n",
    "h_sme5.Sumw2()\n",
    "int6 = h_sme6.Integral(lx,ux)\n",
    "h_sme6.Scale(dat_int/int6)\n",
    "h_sme6.Sumw2()\n",
    "\n",
    "int7 = h_sme7.Integral(lx,ux)\n",
    "h_sme7.Scale(dat_int/int7)\n",
    "h_sme7.Sumw2()\n",
    "int8 = h_sme8.Integral(lx,ux)\n",
    "h_sme8.Scale(dat_int/int8)\n",
    "h_sme8.Sumw2()\n",
    "\n",
    "int9 = h_sme9.Integral(lx,ux)\n",
    "h_sme9.Scale(dat_int/int9)\n",
    "h_sme9.Sumw2()\n",
    "int10 = h_sme10.Integral(lx,ux)\n",
    "h_sme10.Scale(dat_int/int10)\n",
    "h_sme10.Sumw2()\n",
    "\n",
    "\n",
    "mcs = TObjArray(8)\n",
    "mcs.Add(h_sme1)\n",
    "mcs.Add(h_sme2)\n",
    "mcs.Add(h_sme3)\n",
    "mcs.Add(h_sme4)\n",
    "mcs.Add(h_sme5)\n",
    "mcs.Add(h_sme6)\n",
    "mcs.Add(h_sme7)\n",
    "mcs.Add(h_sme8)\n",
    "# mcs.Add(h_sme9)\n",
    "# mcs.Add(h_sme10)\n",
    "\n",
    "fit = TFractionFitter(h_dat, mcs)\n",
    "fit.Constrain(0, 0.0, 10.0)\n",
    "fit.Constrain(1, 0.0, 10.0)\n",
    "fit.Constrain(2, 0.0, 10.0)\n",
    "#fit.Constrain(2, 1.0, 1.0) # try fixing this param\n",
    "fit.Constrain(3, 0.0, 10.0)\n",
    "fit.Constrain(4, 0.0, 10.0)\n",
    "fit.Constrain(5, 0.0, 10.0)\n",
    "fit.Constrain(6, 0.0, 10.0)\n",
    "fit.Constrain(7, 0.0, 10.0)\n",
    "# fit.Constrain(8, 0.0, 10.0)\n",
    "# fit.Constrain(9, 0.0, 10.0)\n",
    "\n",
    "fit.SetRangeX(lx,ux)\n",
    "status = fit.Fit() # do the fit!\n",
    "chi2 = round(fit.GetChisquare(), 1)\n",
    "ndf = fit.GetNDF()\n",
    "#print(\"Fit done with status \",status,\" Chi2=\",chi2,\"/\",ndf)\n",
    "print('Fit chi2/ndf = {0}/{1} = {2}'.format(chi2, ndf, round(chi2/ndf, 2)))\n",
    "#TH1F* result = (TH1F*) fit.GetPlot()\n",
    "\n",
    "### TypeError: void TFractionFitter::GetResult(Int_t parm, Double_t& value, Double_t& error) =>\n",
    "### could not convert argument 2 (use ROOT.Double for pass-by-ref of doubles)\n",
    "#value = ROOT.Double(0.0)\n",
    "#error = ROOT.Double(0.0)\n",
    "value = ctypes.c_double(0.0)\n",
    "error = ctypes.c_double(0.0)\n",
    "\n",
    "fit.GetResult(0, value, error)\n",
    "print(\"value0 = \",value.value,\" +/- \",error.value)\n",
    "h_sme1.Scale(value.value)\n",
    "\n",
    "fit.GetResult(1, value, error)\n",
    "print(\"value1 = \",value.value,\" +/- \",error.value)\n",
    "h_sme2.Scale(value.value)\n",
    "\n",
    "fit.GetResult(2, value, error)\n",
    "print(\"value2 = \",value.value,\" +/- \",error.value)\n",
    "h_sme3.Scale(value.value)\n",
    "\n",
    "fit.GetResult(3, value, error)\n",
    "print(\"value3 = \",value.value,\" +/- \",error.value)\n",
    "h_sme4.Scale(value.value)\n",
    "\n",
    "fit.GetResult(4, value, error)\n",
    "print(\"value4 = \",value.value,\" +/- \",error.value)\n",
    "h_sme5.Scale(value.value)\n",
    "\n",
    "fit.GetResult(5, value, error)\n",
    "print(\"value5 = \",value.value,\" +/- \",error.value)\n",
    "h_sme6.Scale(value.value)\n",
    "\n",
    "fit.GetResult(6, value, error)\n",
    "print(\"value6 = \",value.value,\" +/- \",error.value)\n",
    "h_sme7.Scale(value.value)\n",
    "\n",
    "fit.GetResult(7, value, error)\n",
    "print(\"value7 = \",value.value,\" +/- \",error.value)\n",
    "h_sme8.Scale(value.value)\n",
    "\n",
    "# fit.GetResult(8, value, error)\n",
    "# print(\"value8 = \",value.value,\" +/- \",error.value)\n",
    "# h_sme9.Scale(value.value)\n",
    "\n",
    "# fit.GetResult(9, value, error)\n",
    "# print(\"value9 = \",value.value,\" +/- \",error.value)\n",
    "# h_sme10.Scale(value.value)\n",
    "\n",
    "tots.Reset()\n",
    "\n",
    "tots.Add(h_sme1)\n",
    "tots.Add(h_sme2)\n",
    "tots.Add(h_sme3)\n",
    "tots.Add(h_sme4)\n",
    "tots.Add(h_sme5)\n",
    "tots.Add(h_sme6)\n",
    "tots.Add(h_sme7)\n",
    "tots.Add(h_sme8)\n",
    "# tots.Add(h_sme9)\n",
    "# tots.Add(h_sme10)"
   ]
  },
  {
   "cell_type": "markdown",
   "id": "825f2150",
   "metadata": {},
   "source": [
    "### Normalize muons"
   ]
  },
  {
   "cell_type": "code",
   "execution_count": 2,
   "id": "41b57702",
   "metadata": {},
   "outputs": [
    {
     "ename": "NameError",
     "evalue": "name 'TH1F' is not defined",
     "output_type": "error",
     "traceback": [
      "\u001b[0;31m---------------------------------------------------------------------------\u001b[0m",
      "\u001b[0;31mNameError\u001b[0m                                 Traceback (most recent call last)",
      "\u001b[0;32m/tmp/ipykernel_291491/1634235332.py\u001b[0m in \u001b[0;36m<module>\u001b[0;34m\u001b[0m\n\u001b[0;32m----> 1\u001b[0;31m \u001b[0mh_mu\u001b[0m \u001b[0;34m=\u001b[0m \u001b[0mTH1F\u001b[0m\u001b[0;34m(\u001b[0m\u001b[0;34m'h_mu'\u001b[0m\u001b[0;34m,\u001b[0m\u001b[0;34m''\u001b[0m\u001b[0;34m,\u001b[0m\u001b[0mbins\u001b[0m\u001b[0;34m,\u001b[0m\u001b[0mhmin\u001b[0m\u001b[0;34m,\u001b[0m\u001b[0mhmax\u001b[0m\u001b[0;34m)\u001b[0m\u001b[0;34m\u001b[0m\u001b[0;34m\u001b[0m\u001b[0m\n\u001b[0m",
      "\u001b[0;31mNameError\u001b[0m: name 'TH1F' is not defined"
     ]
    }
   ],
   "source": [
    "h_mu = TH1F('h_mu','',bins,hmin,hmax)\n",
    "fill_hist(h_mu, bg_smeared_lin_mu_pe / pe_mev)\n",
    "\n",
    "lx = int(3/R)\n",
    "ux = int(14/R)\n",
    "dat_int = h_dat.Integral(lx,ux)\n",
    "int1 = h_mu.Integral(lx,ux)\n",
    "h_mu.Scale(dat_int/int1)\n",
    "h_mu.Sumw2()"
   ]
  },
  {
   "cell_type": "code",
   "execution_count": null,
   "id": "6e499cf9",
   "metadata": {},
   "outputs": [],
   "source": [
    "tots.Add(h_mu)"
   ]
  }
 ],
 "metadata": {
  "kernelspec": {
   "display_name": "Python 3 (ipykernel)",
   "language": "python",
   "name": "python3"
  },
  "language_info": {
   "codemirror_mode": {
    "name": "ipython",
    "version": 3
   },
   "file_extension": ".py",
   "mimetype": "text/x-python",
   "name": "python",
   "nbconvert_exporter": "python",
   "pygments_lexer": "ipython3",
   "version": "3.8.10"
  }
 },
 "nbformat": 4,
 "nbformat_minor": 5
}
