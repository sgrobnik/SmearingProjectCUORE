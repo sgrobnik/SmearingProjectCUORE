{
 "cells": [
  {
   "cell_type": "markdown",
   "id": "68043fef",
   "metadata": {},
   "source": [
    "#### Din-Ammar Tolj - Y25\n",
    "Maruyama Group, Summer 2023"
   ]
  },
  {
   "cell_type": "code",
   "execution_count": 1,
   "id": "14a9c285",
   "metadata": {},
   "outputs": [
    {
     "name": "stdout",
     "output_type": "stream",
     "text": [
      "Welcome to JupyROOT 6.24/02\n"
     ]
    },
    {
     "name": "stderr",
     "output_type": "stream",
     "text": [
      "/tmp/ipykernel_251581/3272581815.py:22: MatplotlibDeprecationWarning: Support for setting the 'text.latex.preamble' or 'pgf.preamble' rcParam to a list of strings is deprecated since 3.3 and will be removed two minor releases later; set it to a single string instead.\n",
      "  mpl.rcParams['text.latex.preamble'] = [r'\\usepackage{amsmath}'] #for \\text command\n"
     ]
    }
   ],
   "source": [
    "import sys\n",
    "import ROOT\n",
    "import numpy as np\n",
    "from ROOT import TH1D,TF1, gRandom, gPad, gStyle, gSystem, gROOT\n",
    "import matplotlib as mpl\n",
    "import matplotlib.pyplot as plt\n",
    "from ROOT import TChain, TSelector, TTree\n",
    "import os\n",
    "\n",
    "import matplotlib.colors as mcolors\n",
    "import scipy\n",
    "from matplotlib.colors import LogNorm\n",
    "import pandas as pd\n",
    "import seaborn as sns\n",
    "%matplotlib inline\n",
    "import matplotlib.colors as colors\n",
    "\n",
    "mpl.rcParams['text.usetex'] = True\n",
    "mpl.rcParams['mathtext.rm'] = 'Times New Roman'\n",
    "mpl.rcParams['mathtext.it'] = 'Times New Roman:italic'\n",
    "mpl.rcParams['mathtext.bf'] = 'Times New Roman:bold'\n",
    "mpl.rcParams['text.latex.preamble'] = [r'\\usepackage{amsmath}'] #for \\text command\n",
    "\n",
    "mpl.rc('font', family='serif', size=12)\n",
    "mpl.rcParams['xtick.labelsize'] = 14\n",
    "mpl.rcParams['ytick.labelsize'] = 14\n",
    "mpl.rcParams['xtick.major.size'] = 5\n",
    "mpl.rcParams['ytick.major.size'] = 5\n",
    "\n",
    "mpl.rcParams['axes.titlesize'] = 18\n",
    "mpl.rcParams['axes.labelsize'] = 18\n",
    "# mpl.rc('font', size=16)\n",
    "mpl.rc('axes', titlesize=20)\n",
    "\n",
    "current_palette = sns.color_palette('colorblind', 10)\n",
    "import warnings\n",
    "warnings.filterwarnings(\"ignore\")"
   ]
  },
  {
   "cell_type": "code",
   "execution_count": 2,
   "id": "c91f67ea",
   "metadata": {
    "scrolled": true
   },
   "outputs": [
    {
     "name": "stdout",
     "output_type": "stream",
     "text": [
      "TFile**\t\t/home/dt592/Geant4Work/muons_edited/muonsInPanel_build/testem18.root\t\n",
      " TFile*\t\t/home/dt592/Geant4Work/muons_edited/muonsInPanel_build/testem18.root\t\n",
      "  KEY: TDirectoryFile\tntuple;1\tntuple\n",
      "  KEY: TH1D\t0;1\tdummy\n",
      "  KEY: TH1D\t1;1\tstep size of primary track\n",
      "  KEY: TH1D\t2;1\tenergy continuously deposited along primary track\n",
      "  KEY: TH1D\t3;1\tenergy transfered to secondaries by ionisation\n",
      "  KEY: TH1D\t4;1\tenergy transfered to secondaries by Bremsstrahlung\n",
      "  KEY: TH1D\t5;1\tenergy transfered to secondaries by (e+,e-) production\n",
      "  KEY: TH1D\t6;1\ttotal energy transfered to secondaries\n",
      "  KEY: TH1D\t7;1\ttotal energy lost by primary track\n",
      "  KEY: TH1D\t8;1\ttotal energy lost by primary track from energy balance\n",
      "  KEY: TH1D\t9;1\tenergy continuously deposited along secondary tracks\n",
      "  KEY: TH1D\t10;1\ttotal energy deposited\n",
      "  KEY: TH1D\t11;1\tenergy spectrum of gamma\n",
      "  KEY: TH1D\t12;1\tenergy spectrum of e-\n",
      "  KEY: TH1D\t13;1\tenergy spectrum of e+\n",
      "  KEY: TH1D\t14;1\tdirection: phi\n",
      "  KEY: TH1D\t15;1\tdirection: costheta\n"
     ]
    }
   ],
   "source": [
    "folder = \"~/Geant4Work/muons_edited/muonsInPanel_build/\"\n",
    "file = ROOT.TFile(folder + \"testem18.root\", \"READ\")\n",
    "# file2 = ROOT.TFile(\"mu+.root\", \"READ\")\n",
    "\n",
    "file.ls()"
   ]
  },
  {
   "cell_type": "code",
   "execution_count": 3,
   "id": "6bd3f538",
   "metadata": {},
   "outputs": [
    {
     "data": {
      "text/plain": [
       "<cppyy.CPPOverload at 0x2b5b4440ac10>"
      ]
     },
     "execution_count": 3,
     "metadata": {},
     "output_type": "execute_result"
    },
    {
     "data": {
      "image/png": "[encoded data removed]",
      "text/plain": [
       "<IPython.core.display.Image object>"
      ]
     },
     "metadata": {},
     "output_type": "display_data"
    }
   ],
   "source": [
    "h1 = file.Get(\"10\")\n",
    "c2 = ROOT.TCanvas(\"c2\", \"c2\", 700, 500)\n",
    "h1.Draw(\"\")\n",
    "c2.Draw()\n",
    "c2.Delete\n",
    "\n",
    "# h2 = file2.Get(\"15\")\n",
    "# c3 = ROOT.TCanvas(\"c3\", \"c3\", 700, 500)\n",
    "# h2.Draw(\"\")\n",
    "# c3.Draw()\n",
    "# c3.Delete"
   ]
  },
  {
   "cell_type": "code",
   "execution_count": 4,
   "id": "48e2f5c9",
   "metadata": {},
   "outputs": [
    {
     "name": "stdout",
     "output_type": "stream",
     "text": [
      "TDirectoryFile*\t\tntuple\tntuple\n",
      " KEY: TTree\tparTup;1\tPrimary Particle Tuple\n"
     ]
    }
   ],
   "source": [
    "a = file.Get(\"ntuple\")\n",
    "a.ls()"
   ]
  },
  {
   "cell_type": "code",
   "execution_count": 5,
   "id": "19a21665",
   "metadata": {},
   "outputs": [],
   "source": [
    "tree = a.Get(\"parTup\")"
   ]
  },
  {
   "cell_type": "code",
   "execution_count": 6,
   "id": "df91de0d",
   "metadata": {},
   "outputs": [],
   "source": [
    "energy = []\n",
    "for event in tree:\n",
    "    energy.append(event.Edeposited)"
   ]
  },
  {
   "cell_type": "code",
   "execution_count": 8,
   "id": "8dac09d2",
   "metadata": {
    "scrolled": false
   },
   "outputs": [
    {
     "data": {
      "image/png": "[encoded data removed]",
      "text/plain": [
       "<Figure size 576x360 with 1 Axes>"
      ]
     },
     "metadata": {
      "needs_background": "light"
     },
     "output_type": "display_data"
    }
   ],
   "source": [
    "plt.figure(figsize = (8,5))\n",
    "plt.hist(energy, bins = 500, range = (0,20), histtype=\"step\", lw = 1.7, label = \"Simulated panel\", density = True);\n",
    "# plt.hist(energy_vertical, bins = 100, range = (0,80), histtype=\"step\", lw = 1.7, label = \"Vertical panel\", density = True);\n",
    "# plt.hist(data_vert, bins = 100, range = (0,40), histtype=\"step\", lw = 1.7, label = \"Vertical panel [data]\", density = True);\n",
    "\n",
    "plt.yscale(\"log\")\n",
    "plt.xlabel(\"Deposited energy [MeV]\")\n",
    "plt.title(\"Flux of muons on panel (simulation)\")\n",
    "plt.grid(alpha = 0.3)\n",
    "plt.legend(fontsize = 14)\n",
    "# plt.axvline(5, c = \"red\")\n",
    "plt.tight_layout()\n",
    "plt.savefig(\"muonsplus9.jpg\")"
   ]
  },
  {
   "cell_type": "code",
   "execution_count": null,
   "id": "c434c9c2",
   "metadata": {},
   "outputs": [],
   "source": []
  }
 ],
 "metadata": {
  "kernelspec": {
   "display_name": "Python 3 (ipykernel)",
   "language": "python",
   "name": "python3"
  },
  "language_info": {
   "codemirror_mode": {
    "name": "ipython",
    "version": 3
   },
   "file_extension": ".py",
   "mimetype": "text/x-python",
   "name": "python",
   "nbconvert_exporter": "python",
   "pygments_lexer": "ipython3",
   "version": "3.8.10"
  }
 },
 "nbformat": 4,
 "nbformat_minor": 5
}
