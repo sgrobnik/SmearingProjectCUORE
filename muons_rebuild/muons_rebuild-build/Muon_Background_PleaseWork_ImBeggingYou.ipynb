{
 "cells": [
  {
   "cell_type": "code",
   "execution_count": 1,
   "id": "e8dfecfc",
   "metadata": {},
   "outputs": [
    {
     "name": "stdout",
     "output_type": "stream",
     "text": [
      "Welcome to JupyROOT 6.24/02\n"
     ]
    },
    {
     "name": "stderr",
     "output_type": "stream",
     "text": [
      "/tmp/ipykernel_17993/2790992617.py:28: MatplotlibDeprecationWarning: Support for setting the 'text.latex.preamble' or 'pgf.preamble' rcParam to a list of strings is deprecated since 3.3 and will be removed two minor releases later; set it to a single string instead.\n",
      "  mpl.rcParams['text.latex.preamble'] = [r'\\usepackage{amsmath}'] #for \\text command\n"
     ]
    }
   ],
   "source": [
    "import numpy as np\n",
    "import matplotlib.pyplot as plt\n",
    "from scipy.stats import moyal\n",
    "\n",
    "import ROOT\n",
    "import uproot\n",
    "\n",
    "import sys\n",
    "import math\n",
    "from ROOT import TH1D,TF1, gRandom, gPad, gStyle, TCanvas\n",
    "import matplotlib as mpl\n",
    "from ROOT import TChain, TSelector, TTree\n",
    "import os\n",
    "import matplotlib.colors as mcolors\n",
    "import scipy\n",
    "from matplotlib.colors import LogNorm\n",
    "import pandas as pd\n",
    "import seaborn as sns\n",
    "%matplotlib inline\n",
    "# sys.path.insert(1, \"/users/PAS0654/osu8354/ARA_cvmfs/source/AraRoot/analysis/ARA_analysis/SourceSearch\")\n",
    "# import deDisperse_util as util\n",
    "import matplotlib.colors as colors\n",
    "\n",
    "mpl.rcParams['text.usetex'] = True\n",
    "mpl.rcParams['mathtext.rm'] = 'Times New Roman'\n",
    "mpl.rcParams['mathtext.it'] = 'Times New Roman:italic'\n",
    "mpl.rcParams['mathtext.bf'] = 'Times New Roman:bold'\n",
    "mpl.rcParams['text.latex.preamble'] = [r'\\usepackage{amsmath}'] #for \\text command\n",
    "\n",
    "mpl.rc('font', family='serif', size=12)\n",
    "mpl.rcParams['xtick.labelsize'] = 14\n",
    "mpl.rcParams['ytick.labelsize'] = 14\n",
    "mpl.rcParams['xtick.major.size'] = 5\n",
    "mpl.rcParams['ytick.major.size'] = 5\n",
    "\n",
    "mpl.rcParams['axes.titlesize'] = 18\n",
    "mpl.rcParams['axes.labelsize'] = 18\n",
    "# mpl.rc('font', size=16)\n",
    "mpl.rc('axes', titlesize=20)\n",
    "\n",
    "current_palette = sns.color_palette('colorblind', 10)\n",
    "\n",
    "from scipy.optimize import curve_fit\n",
    "import scipy.signal\n",
    "from lmfit.models import GaussianModel, ConstantModel\n",
    "from datetime import datetime\n",
    "from glob import glob\n",
    "\n",
    "import warnings\n",
    "warnings.filterwarnings(\"ignore\")"
   ]
  },
  {
   "cell_type": "code",
   "execution_count": 2,
   "id": "e523ca59",
   "metadata": {},
   "outputs": [],
   "source": [
    "f1460 = ROOT.TFile.Open(\"muons_rebuild.root\",\"READ\")"
   ]
  },
  {
   "cell_type": "code",
   "execution_count": 3,
   "id": "ef2b5f66",
   "metadata": {},
   "outputs": [],
   "source": [
    "tree1460 = f1460.Get(\"Hits\")"
   ]
  },
  {
   "cell_type": "code",
   "execution_count": 4,
   "id": "5c717462",
   "metadata": {},
   "outputs": [],
   "source": [
    "energyDeposited1460 = []\n",
    "entries= tree1460.GetEntries();\n",
    "for i in range(0,entries):\n",
    "    tree1460.GetEntry(i)\n",
    "    energyDeposited1460.append(tree1460.EnergyDeposited)"
   ]
  },
  {
   "cell_type": "code",
   "execution_count": 10,
   "id": "79d15829",
   "metadata": {},
   "outputs": [
    {
     "data": {
      "text/plain": [
       "Text(0.5, 1.0, 'Energy Deposited by 2 Most Energetic Isotopes')"
      ]
     },
     "execution_count": 10,
     "metadata": {},
     "output_type": "execute_result"
    },
    {
     "data": {
      "image/png": "[encoded data removed]",
      "text/plain": [
       "<Figure size 648x432 with 1 Axes>"
      ]
     },
     "metadata": {
      "needs_background": "light"
     },
     "output_type": "display_data"
    }
   ],
   "source": [
    "plt.figure(figsize=(9,6))\n",
    "\n",
    "plt.hist(np.array(energyDeposited1460), bins=200, histtype=\"step\", lw=2, label = \"1460 keV\");\n",
    "\n",
    "\n",
    "plt.grid()\n",
    "plt.yscale(\"log\")\n",
    "plt.xlabel(\"Energy Deposited (MeV)\")\n",
    "# plt.xlim(0, 10)\n",
    "plt.ylabel(\"Counts/bin\")\n",
    "plt.legend()\n",
    "plt.title(\"Energy Deposited by 2 Most Energetic Isotopes\")"
   ]
  },
  {
   "cell_type": "code",
   "execution_count": null,
   "id": "111f4627",
   "metadata": {},
   "outputs": [],
   "source": []
  }
 ],
 "metadata": {
  "kernelspec": {
   "display_name": "Python 3 (ipykernel)",
   "language": "python",
   "name": "python3"
  },
  "language_info": {
   "codemirror_mode": {
    "name": "ipython",
    "version": 3
   },
   "file_extension": ".py",
   "mimetype": "text/x-python",
   "name": "python",
   "nbconvert_exporter": "python",
   "pygments_lexer": "ipython3",
   "version": "3.8.10"
  }
 },
 "nbformat": 4,
 "nbformat_minor": 5
}
